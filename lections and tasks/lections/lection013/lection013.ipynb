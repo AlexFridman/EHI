{
 "cells": [
  {
   "cell_type": "markdown",
   "metadata": {},
   "source": [
    "# Лекция 13: шаблонизация в Django"
   ]
  },
  {
   "cell_type": "markdown",
   "metadata": {},
   "source": [
    "## Шаблонизация верстки"
   ]
  },
  {
   "cell_type": "markdown",
   "metadata": {},
   "source": [
    "* Django динамически генерирует верстку.\n",
    "* Для этого используется механизм шаблонов.\n",
    "* Django поддерживает выбор бэкэнда шаблонизации.\n",
    "* Шаблоны предоставляет API, через которое можно загружать и рендерить шаблоны независимо от конкретного бэкэнда.\n",
    "  * Загрузка - поиск шаблона и его предобработка.\n",
    "  * Рендеринг - преобразование шаблона и доп. данных текст (обычно html).\n",
    "* Можно использовать или встроенный механизм Django шаблонов или какой-нибудь внешний шаблонизатор (например, jinja2)."
   ]
  },
  {
   "cell_type": "markdown",
   "metadata": {},
   "source": [
    "## Язык шаблонов Django"
   ]
  },
  {
   "cell_type": "markdown",
   "metadata": {},
   "source": [
    "* Django-шаблон - строка или тестовый файл, содержащий элементы языка django-шаблонов и текст.\n",
    "* Текст может быть разных форматов: html, json, csv, javascript и т.д."
   ]
  },
  {
   "cell_type": "markdown",
   "metadata": {},
   "source": [
    "Основные элементы языка шаблонов Django:\n",
    "* переменные (и фильтры над ними)\n",
    "* теги"
   ]
  },
  {
   "cell_type": "markdown",
   "metadata": {},
   "source": [
    "Пример:"
   ]
  },
  {
   "cell_type": "code",
   "execution_count": null,
   "metadata": {
    "collapsed": true
   },
   "outputs": [],
   "source": [
    "{% extends \"base_generic.html\" %}\n",
    "\n",
    "{% block title %}{{ section.title }}{% endblock %}\n",
    "\n",
    "{% block content %}\n",
    "<h1>{{ section.title }}</h1>\n",
    "\n",
    "{% for story in story_list %}\n",
    "<h2>\n",
    "  <a href=\"{{ story.get_absolute_url }}\">\n",
    "    {{ story.headline|upper }}\n",
    "  </a>\n",
    "</h2>\n",
    "<p>{{ story.tease|truncatewords:\"100\" }}</p>\n",
    "{% endfor %}\n",
    "{% endblock %}"
   ]
  },
  {
   "cell_type": "markdown",
   "metadata": {},
   "source": [
    "### Переменные"
   ]
  },
  {
   "cell_type": "markdown",
   "metadata": {},
   "source": [
    "* Записываются как {{ variable }} и {{ section.title }}.\n",
    "* Переменная заменяется результатом её вычисления.\n",
    "* Вычисление переменной:\n",
    "  * Если простое имя, то берётся соответствующее значение из переданного контекста шаблона.\n",
    "  * Если составное имя с точками, то последовательно  происходит обращение разыменование частей пути значению.\n",
    "* Когда в имени переменной содержится точка, то шаблонизатор пытается:\n",
    "  * получить значение по ключу из словаря (могут быть неожиданности, если хотели метод, например у defaultdict)\n",
    "  * использовать объект как атрибут или метод (вызывается без аргументов и результат используется как значение).\n",
    "  * индекс списка"
   ]
  },
  {
   "cell_type": "markdown",
   "metadata": {},
   "source": [
    "### Фильтры"
   ]
  },
  {
   "cell_type": "markdown",
   "metadata": {},
   "source": [
    "Фильтры позволяют динамически выполнять цепочечные преобразования над значением переменной."
   ]
  },
  {
   "cell_type": "markdown",
   "metadata": {},
   "source": [
    "Пример применения фильтра lower к переменной name: "
   ]
  },
  {
   "cell_type": "code",
   "execution_count": null,
   "metadata": {
    "collapsed": true
   },
   "outputs": [],
   "source": [
    "{{ name|lower }}"
   ]
  },
  {
   "cell_type": "markdown",
   "metadata": {},
   "source": [
    "Цепочка фильтров:"
   ]
  },
  {
   "cell_type": "code",
   "execution_count": null,
   "metadata": {
    "collapsed": true
   },
   "outputs": [],
   "source": [
    "{{ text|escape|linebreaks }}"
   ]
  },
  {
   "cell_type": "markdown",
   "metadata": {},
   "source": [
    "Передача аргумента фильтру:"
   ]
  },
  {
   "cell_type": "code",
   "execution_count": null,
   "metadata": {
    "collapsed": true
   },
   "outputs": [],
   "source": [
    "{{ text|truncatewords:30 }}"
   ]
  },
  {
   "cell_type": "markdown",
   "metadata": {},
   "source": [
    "Ещё несколько примеров:"
   ]
  },
  {
   "cell_type": "code",
   "execution_count": null,
   "metadata": {
    "collapsed": true
   },
   "outputs": [],
   "source": [
    "{{ value|default:\"nothing\" }}"
   ]
  },
  {
   "cell_type": "code",
   "execution_count": null,
   "metadata": {
    "collapsed": true
   },
   "outputs": [],
   "source": [
    "{{ value|length }}"
   ]
  },
  {
   "cell_type": "code",
   "execution_count": null,
   "metadata": {
    "collapsed": true
   },
   "outputs": [],
   "source": [
    "{{ value|filesizeformat }}"
   ]
  },
  {
   "cell_type": "markdown",
   "metadata": {},
   "source": [
    "Подробнее про встроенные фильтры:\n",
    "* http://djbook.ru/rel1.8/ref/templates/builtins.html#ref-templates-builtins-filters\n",
    "* https://docs.djangoproject.com/en/1.8/ref/templates/builtins/#ref-templates-builtins-filters"
   ]
  },
  {
   "cell_type": "markdown",
   "metadata": {},
   "source": [
    "### Тэги"
   ]
  },
  {
   "cell_type": "markdown",
   "metadata": {},
   "source": [
    "Тэг - инструкция языка Django-шаблонов. Есть множество уже существующих, а также можно создавать свои."
   ]
  },
  {
   "cell_type": "markdown",
   "metadata": {},
   "source": [
    "Рассмотрим некоторые встроенные:"
   ]
  },
  {
   "cell_type": "markdown",
   "metadata": {},
   "source": [
    "*for*"
   ]
  },
  {
   "cell_type": "code",
   "execution_count": null,
   "metadata": {
    "collapsed": true
   },
   "outputs": [],
   "source": [
    "<ul>\n",
    "{% for athlete in athlete_list %}\n",
    "    <li>{{ athlete.name }}</li>\n",
    "{% endfor %}\n",
    "</ul>"
   ]
  },
  {
   "cell_type": "markdown",
   "metadata": {},
   "source": [
    "*if, elif, и else*"
   ]
  },
  {
   "cell_type": "code",
   "execution_count": null,
   "metadata": {
    "collapsed": true
   },
   "outputs": [],
   "source": [
    "{% if athlete_list %}\n",
    "    Number of athletes: {{ athlete_list|length }}\n",
    "{% elif athlete_in_locker_room_list %}\n",
    "    Athletes should be out of the locker room soon!\n",
    "{% else %}\n",
    "    No athletes.\n",
    "{% endif %}"
   ]
  },
  {
   "cell_type": "code",
   "execution_count": null,
   "metadata": {
    "collapsed": true
   },
   "outputs": [],
   "source": [
    "{% if athlete_list|length > 1 %}\n",
    "   Team: {% for athlete in athlete_list %} ... {% endfor %}\n",
    "{% else %}\n",
    "   Athlete: {{ athlete_list.0.name }}\n",
    "{% endif %}"
   ]
  },
  {
   "cell_type": "markdown",
   "metadata": {},
   "source": [
    "Комментарии:"
   ]
  },
  {
   "cell_type": "code",
   "execution_count": null,
   "metadata": {
    "collapsed": true
   },
   "outputs": [],
   "source": [
    "{# greeting #}hello"
   ]
  },
  {
   "cell_type": "code",
   "execution_count": null,
   "metadata": {
    "collapsed": true
   },
   "outputs": [],
   "source": [
    "{# {% if foo %}bar{% else %} #}"
   ]
  },
  {
   "cell_type": "code",
   "execution_count": null,
   "metadata": {
    "collapsed": true
   },
   "outputs": [],
   "source": [
    "<p>Rendered text with {{ pub_date|date:\"c\" }}</p>\n",
    "{% comment \"Optional note\" %}\n",
    "    <p>Commented out text with {{ create_date|date:\"c\" }}</p>\n",
    "{% endcomment %}"
   ]
  },
  {
   "cell_type": "markdown",
   "metadata": {},
   "source": [
    "Подробнее про встроенные теги:\n",
    "* http://djbook.ru/rel1.8/ref/templates/builtins.html#ref-templates-builtins-tags\n",
    "* https://docs.djangoproject.com/en/1.8/ref/templates/builtins/#ref-templates-builtins-tags"
   ]
  },
  {
   "cell_type": "markdown",
   "metadata": {},
   "source": [
    "### Наследование шаблонов"
   ]
  },
  {
   "cell_type": "markdown",
   "metadata": {},
   "source": [
    "* Механизм наследования шаблонов позволяет переиспользовать общие части шаблонов.\n",
    "* Создаём базовый шаблон (шаблоны).\n",
    "* Помечаем в этих шаблонах специальным образом блоки.\n",
    "* В шаблонах-потомках можем переопределять только эти блоки (или их часть), а остальное рендерится так, как у предка."
   ]
  },
  {
   "cell_type": "markdown",
   "metadata": {},
   "source": [
    "Базовый шаблон (base.html):"
   ]
  },
  {
   "cell_type": "code",
   "execution_count": null,
   "metadata": {
    "collapsed": true
   },
   "outputs": [],
   "source": [
    "<!DOCTYPE html>\n",
    "<html lang=\"en\">\n",
    "<head>\n",
    "    <link rel=\"stylesheet\" href=\"style.css\" />\n",
    "    <title>{% block title %}My amazing site{% endblock %}</title>\n",
    "</head>\n",
    "\n",
    "<body>\n",
    "    <div id=\"sidebar\">\n",
    "        {% block sidebar %}\n",
    "        <ul>\n",
    "            <li><a href=\"/\">Home</a></li>\n",
    "            <li><a href=\"/blog/\">Blog</a></li>\n",
    "        </ul>\n",
    "        {% endblock %}\n",
    "    </div>\n",
    "\n",
    "    <div id=\"content\">\n",
    "        {% block content %}{% endblock %}\n",
    "    </div>\n",
    "</body>\n",
    "</html>"
   ]
  },
  {
   "cell_type": "markdown",
   "metadata": {},
   "source": [
    "Дочерний шаблон:"
   ]
  },
  {
   "cell_type": "code",
   "execution_count": null,
   "metadata": {
    "collapsed": true
   },
   "outputs": [],
   "source": [
    "{% extends \"base.html\" %}\n",
    "\n",
    "{% block title %}My amazing blog{% endblock %}\n",
    "\n",
    "{% block content %}\n",
    "{% for entry in blog_entries %}\n",
    "    <h2>{{ entry.title }}</h2>\n",
    "    <p>{{ entry.body }}</p>\n",
    "{% endfor %}\n",
    "{% endblock %}"
   ]
  },
  {
   "cell_type": "markdown",
   "metadata": {},
   "source": [
    "Пример результата:"
   ]
  },
  {
   "cell_type": "code",
   "execution_count": null,
   "metadata": {
    "collapsed": true
   },
   "outputs": [],
   "source": [
    "<!DOCTYPE html>\n",
    "<html lang=\"en\">\n",
    "<head>\n",
    "    <link rel=\"stylesheet\" href=\"style.css\" />\n",
    "    <title>My amazing blog</title>\n",
    "</head>\n",
    "\n",
    "<body>\n",
    "    <div id=\"sidebar\">\n",
    "        <ul>\n",
    "            <li><a href=\"/\">Home</a></li>\n",
    "            <li><a href=\"/blog/\">Blog</a></li>\n",
    "        </ul>\n",
    "    </div>\n",
    "\n",
    "    <div id=\"content\">\n",
    "        <h2>Entry one</h2>\n",
    "        <p>This is my first entry.</p>\n",
    "\n",
    "        <h2>Entry two</h2>\n",
    "        <p>This is my second entry.</p>\n",
    "    </div>\n",
    "</body>\n",
    "</html>"
   ]
  },
  {
   "cell_type": "markdown",
   "metadata": {},
   "source": [
    "Подробно про язык django-шаблонов:\n",
    "* http://djbook.ru/rel1.8/ref/templates/language.html\n",
    "* https://docs.djangoproject.com/en/1.8/ref/templates/language/"
   ]
  },
  {
   "cell_type": "markdown",
   "metadata": {},
   "source": [
    "## Обсуждение и самостоятельное изучение"
   ]
  },
  {
   "cell_type": "markdown",
   "metadata": {},
   "source": [
    "* Формы в Django\n",
    "  * http://djbook.ru/rel1.8/#forms\n",
    "  * https://docs.djangoproject.com/en/1.8/#forms\n",
    "* Интерфейс администратора\n",
    "  * http://djbook.ru/rel1.8/#the-admin\n",
    "  * https://docs.djangoproject.com/en/1.8/#the-admin\n",
    "* Процесс разработки\n",
    "  * http://djbook.ru/rel1.8/#the-development-process\n",
    "  * https://docs.djangoproject.com/en/1.8/#the-development-process\n",
    "* Безопасность\n",
    "  * http://djbook.ru/rel1.8/#security\n",
    "  * https://docs.djangoproject.com/en/1.8/#security\n",
    "* Интернационализация и локализация\n",
    "  * http://djbook.ru/rel1.8/#internationalization-and-localization\n",
    "  * https://docs.djangoproject.com/en/1.8/#internationalization-and-localization"
   ]
  }
 ],
 "metadata": {
  "kernelspec": {
   "display_name": "Python 2",
   "language": "python",
   "name": "python2"
  },
  "language_info": {
   "codemirror_mode": {
    "name": "ipython",
    "version": 2
   },
   "file_extension": ".py",
   "mimetype": "text/x-python",
   "name": "python",
   "nbconvert_exporter": "python",
   "pygments_lexer": "ipython2",
   "version": "2.7.9"
  }
 },
 "nbformat": 4,
 "nbformat_minor": 0
}
