{
 "metadata": {
  "name": "",
  "signature": "sha256:9027c72de9db816d63af08e51d4d0b26120165b3f1a6f0ba0b7311df95bf9b5e"
 },
 "nbformat": 3,
 "nbformat_minor": 0,
 "worksheets": [
  {
   "cells": [
    {
     "cell_type": "markdown",
     "metadata": {
      "slideshow": {
       "slide_type": "slide"
      }
     },
     "source": [
      "# \u041b\u0435\u043a\u0446\u0438\u044f 2: \u0431\u0430\u0437\u043e\u0432\u044b\u0435 \u044d\u043b\u0435\u043c\u0435\u043d\u0442\u044b \u044f\u0437\u044b\u043a\u0430 Python\n",
      "\n",
      "\u0412 \u0440\u0430\u043c\u043a\u0430\u0445 \u043b\u0435\u043a\u0446\u0438\u0438 \u0440\u0430\u0441\u0441\u043c\u043e\u0442\u0440\u0438\u043c \u0431\u0430\u0437\u043e\u0432\u044b\u0435 \u043f\u043e\u043d\u044f\u0442\u0438\u044f, \u0432\u0441\u0442\u0440\u043e\u0435\u043d\u043d\u044b\u0435 \u0442\u0438\u043f\u044b \u0434\u0430\u043d\u043d\u044b\u0445, \u043f\u0440\u043e\u0441\u0442\u043e\u0439 \u0432\u0432\u043e\u0434-\u0432\u044b\u0432\u043e\u0434, \u043e\u043f\u0435\u0440\u0430\u0442\u043e\u0440\u044b \u0438 \u0444\u0443\u043d\u043a\u0446\u0438\u0438."
     ]
    },
    {
     "cell_type": "markdown",
     "metadata": {},
     "source": [
      "\u0412 \u0438\u0442\u043e\u0433\u0435 \u0434\u043e\u043b\u0436\u043d\u044b \u0431\u044b\u0442\u044c \u043f\u043e\u043a\u0440\u044b\u0442\u044b \u0432\u0441\u0435 \u0442\u0435\u043c\u044b \u043d\u0443\u0436\u043d\u044b\u0435 \u0434\u043b\u044f \u0432\u044b\u043f\u043e\u043b\u043d\u0435\u043d\u0438\u044f \u0431\u0430\u0437\u043e\u0432\u044b\u0445 \u0437\u0430\u0434\u0430\u043d\u0438\u0439 \u043f\u0435\u0440\u0432\u043e\u0439 \u043b\u0430\u0431\u043e\u0440\u0430\u0442\u043e\u0440\u043d\u043e\u0439."
     ]
    },
    {
     "cell_type": "markdown",
     "metadata": {
      "slideshow": {
       "slide_type": "slide"
      }
     },
     "source": [
      "## \u041e\u0442\u0441\u0442\u0443\u043f\u044b\n",
      "\n",
      "* \u0411\u043b\u043e\u043a\u0438 \u043a\u043e\u0434\u0430 \u043e\u043f\u0440\u0435\u0434\u0435\u043b\u044f\u044e\u0442\u0441\u044f \u043e\u0442\u0441\u0442\u0443\u043f\u0430\u043c\u0438 (\u0438\u043d\u0434\u0435\u043d\u0442\u0430\u0446\u0438\u0435\u0439).  \n",
      "* \u0414\u043b\u044f \u043e\u0442\u0441\u0442\u0443\u043f\u043e\u0432 \u0438\u0441\u043f\u043e\u043b\u044c\u0437\u0443\u044e\u0442\u0441\u044f \u043f\u0440\u043e\u0431\u0435\u043b\u044c\u043d\u044b\u0435 \u0441\u0438\u043c\u0432\u043e\u043b\u044b (\u0434\u043e\u043f\u0443\u0441\u0442\u0438\u043c\u044b \u043f\u0440\u043e\u0431\u0435\u043b \u0438 \u0442\u0430\u0431\u0443\u043b\u044f\u0446\u0438\u044f).  \n",
      "* \u0423\u0440\u043e\u0432\u043d\u0438 \u0432\u043b\u043e\u0436\u0435\u043d\u043d\u043e\u0441\u0442\u0438 - \u043f\u043e \u043a\u043e\u043b\u0438\u0447\u0435\u0441\u0442\u0432\u0443 \u043e\u0442\u0441\u0442\u0443\u043f\u043e\u0432 (\u0433\u0440\u0443\u043f\u043f\u0430 \u043f\u0440\u043e\u0431\u0435\u043b\u043e\u0432 \u0438\u043b\u0438 \u0441\u0438\u043c\u0432\u043e\u043b \u0442\u0430\u0431\u0443\u043b\u044f\u0446\u0438\u0438).  "
     ]
    },
    {
     "cell_type": "markdown",
     "metadata": {
      "slideshow": {
       "slide_type": "slide"
      }
     },
     "source": [
      "\u041f\u0440\u0438\u043c\u0435\u0440:"
     ]
    },
    {
     "cell_type": "code",
     "collapsed": false,
     "input": [
      "a = 1\n",
      "\n",
      "if a == 1:\n",
      "    print \"A is one\"\n",
      "\n",
      "    if a - 1 == 0:\n",
      "        print \"A minus one is zero\""
     ],
     "language": "python",
     "metadata": {
      "slideshow": {
       "slide_type": "subslide"
      }
     },
     "outputs": [
      {
       "output_type": "stream",
       "stream": "stdout",
       "text": [
        "A is one\n",
        "A minus one is zero\n"
       ]
      }
     ],
     "prompt_number": 1
    },
    {
     "cell_type": "markdown",
     "metadata": {
      "slideshow": {
       "slide_type": "slide"
      }
     },
     "source": [
      "\u041a\u0430\u043a \u043b\u0443\u0447\u0448\u0435 \u043e\u0444\u043e\u0440\u043c\u043b\u044f\u0442\u044c \u043a\u043e\u0434:  \n",
      "\n",
      "* \u0412\u043e\u0437\u043c\u043e\u0436\u043d\u043e \u0438\u0441\u043f\u043e\u043b\u044c\u0437\u043e\u0432\u0430\u0442\u044c \u043f\u0440\u043e\u0431\u0435\u043b\u044b \u0438\u043b\u0438 \u0442\u0430\u0431\u0443\u043b\u044f\u0446\u0438\u044e.  \n",
      "* \u041d\u043e \u043d\u0438\u043a\u043e\u0433\u0434\u0430 \u043d\u0435 \u0441\u043c\u0435\u0448\u0438\u0432\u0430\u0442\u044c - \u0431\u0443\u0434\u0443\u0442 \u043f\u0440\u043e\u0431\u043b\u0435\u043c\u044b.  \n",
      "* \u041e\u0431\u0449\u0435\u043f\u0440\u0438\u043d\u044f\u0442\u043e \u0438\u0441\u043f\u043e\u043b\u044c\u0437\u043e\u0432\u0430\u0442\u044c \u043e\u0442\u0441\u0442\u0443\u043f \u0432 4 \u043f\u0440\u043e\u0431\u0435\u043b\u0430 \u043d\u0430 \u0443\u0440\u043e\u0432\u0435\u043d\u044c \u0438 \u043c\u044b \u0431\u0443\u0434\u0435\u043c \u043f\u0440\u0438\u0434\u0435\u0440\u0436\u0438\u0432\u0430\u0442\u044c\u0441\u044f \u0442\u0430\u043a\u043e\u0433\u043e \u0441\u043e\u0433\u043b\u0430\u0448\u0435\u043d\u0438\u044f.  \n",
      "* \u0411\u043e\u043b\u044c\u0448\u0435 \u043f\u0440\u043e \u043e\u0444\u043e\u0440\u043c\u043b\u0435\u043d\u0438\u0435 \u043a\u043e\u0434\u0430 <https://www.python.org/dev/peps/pep-0008/> - \u0438\u0437\u0443\u0447\u0438\u0442\u044c \u0438 \u043f\u0440\u0438\u0434\u0435\u0440\u0436\u0438\u0432\u0430\u0442\u044c\u0441\u044f \u043d\u0430 \u043b\u0430\u0431\u043e\u0440\u0430\u0442\u043e\u0440\u043d\u044b\u0445."
     ]
    },
    {
     "cell_type": "markdown",
     "metadata": {
      "slideshow": {
       "slide_type": "slide"
      }
     },
     "source": [
      "## \u0421\u0441\u044b\u043b\u043e\u0447\u043d\u0430\u044f \u0441\u0435\u043c\u0430\u043d\u0442\u0438\u043a\u0430 \u044f\u0437\u044b\u043a\u0430 (reference symantics)\n",
      "\n",
      "* \u0412 Python \u043f\u0435\u0440\u0435\u043c\u0435\u043d\u043d\u0430\u044f - \u043f\u0440\u043e\u0441\u0442\u043e \u0438\u043c\u044f \u0434\u043b\u044f \u043d\u0435\u043a\u043e\u0442\u043e\u0440\u043e\u0433\u043e \u0437\u043d\u0430\u0447\u0435\u043d\u0438\u044f, \u043a\u043e\u0442\u043e\u0440\u043e\u0435 \u044f\u0432\u043b\u044f\u0435\u0442\u0441\u044f \u043d\u043e\u0441\u0438\u0442\u0435\u043b\u0435\u043c \u0442\u0438\u043f\u0430.  \n",
      "* \u041f\u043e \u0441\u0443\u0442\u0438, \u0438\u043c\u0435\u043d\u0430 \u043f\u0435\u0440\u0435\u043c\u0435\u043d\u043d\u044b\u0445 \u0437\u0430\u0434\u0430\u044e\u0442 \u0441\u0441\u044b\u043b\u043a\u0438.  \n",
      "* \u0410\u0440\u0433\u0443\u043c\u0435\u043d\u0442\u044b \u0432 \u0444\u0443\u043d\u043a\u0446\u0438\u044e \u0442\u0430\u0436\u043a\u0435 \u043f\u0435\u0440\u0435\u0434\u0430\u044e\u0442\u0441\u044f \"\u043f\u043e-\u0441\u0441\u044b\u043b\u043a\u0435\" - \u043d\u0443\u0436\u043d\u043e \u044d\u0442\u043e \u0443\u0447\u0438\u0442\u044b\u0432\u0430\u0442\u044c \u043f\u0440\u0438 \u0440\u0430\u0431\u043e\u0442\u0435 (\u0434\u0435\u043b\u0430\u0442\u044c \u044f\u0432\u043d\u043e \u043a\u043e\u043f\u0438\u044e, \u0435\u0441\u043b\u0438 \u043d\u0443\u0436\u043d\u043e \u0438 \u0442.\u0434.).  \n",
      "* \u0412 \u0441\u043b\u0443\u0447\u0430\u0435 \u0441 \u0447\u0438\u0441\u043b\u0430\u043c\u0438 \u0441\u0441\u044b\u043b\u043e\u0447\u043d\u0430\u044f \u0441\u0435\u043c\u0430\u043d\u0442\u0438\u043a\u0430 \u0442\u0430\u0436\u043a\u0435 \u0440\u0430\u0431\u043e\u0442\u0430\u0435\u0442, \u043d\u043e \u0442.\u043a. \u043e\u043d\u0438 \u043f\u0440\u0435\u0434\u0441\u0442\u0430\u0432\u043b\u044f\u044e\u0442 \u0441\u043e\u0431\u043e\u0439 \"\u043d\u0435\u0438\u0437\u043c\u0435\u043d\u044f\u0435\u043c\u044b\u0435\" \u0437\u043d\u0430\u0447\u0435\u043d\u0438\u044f, \u0442\u043e \u043f\u0440\u0438 \u0438\u0437\u043c\u0435\u043d\u0435\u043d\u0438\u0438 \u043f\u0440\u043e\u0441\u0442\u043e \u0432\u0435\u0440\u043d\u0451\u0442\u0441\u044f \u0434\u0440\u0443\u0433\u043e\u0435 \u0437\u043d\u0430\u0447\u0435\u043d\u0438\u0435, \u0430 \u0431\u0430\u0437\u043e\u0432\u043e\u0435 \u043d\u0435 \u043f\u043e\u043c\u0435\u043d\u044f\u0435\u0442\u0441\u044f."
     ]
    },
    {
     "cell_type": "code",
     "collapsed": false,
     "input": [
      "a = 1\n",
      "a = []\n",
      "b = a"
     ],
     "language": "python",
     "metadata": {
      "slideshow": {
       "slide_type": "slide"
      }
     },
     "outputs": [],
     "prompt_number": 2
    },
    {
     "cell_type": "markdown",
     "metadata": {
      "slideshow": {
       "slide_type": "slide"
      }
     },
     "source": [
      "## \u041e\u0431\u044a\u0435\u043a\u0442\u043d\u0430\u044f \u0441\u0438\u0441\u0442\u0435\u043c\u0430\n",
      "\n",
      "\u0412\u0441\u0451 \u044f\u0432\u043b\u044f\u0435\u0442\u0441\u044f \u043e\u0431\u044a\u0435\u043a\u0442\u043e\u043c (everyting is an object):  \n",
      "\n",
      "* \u0444\u0443\u043d\u043a\u0446\u0438\u0438  \n",
      "* \u043a\u043b\u0430\u0441\u0441\u044b  \n",
      "* \u043c\u0435\u0442\u0430\u043a\u043b\u0430\u0441\u0441\u044b (\u043a\u043b\u0430\u0441\u0441\u044b \u0434\u043b\u044f \u043a\u043b\u0430\u0441\u0441\u043e\u0432 :) )  \n",
      "* \u0442\u0438\u043f\u044b  \n",
      "* \u043c\u043e\u0434\u0443\u043b\u0438  \n",
      "* \u0437\u043d\u0430\u0447\u0435\u043d\u0438\u044f \u0432\u0441\u0442\u0440\u043e\u0435\u043d\u043d\u044b\u0435 \u0442\u0438\u043f\u043e\u0432  \n",
      "  \n",
      "\u042d\u0442\u043e \u0434\u0430\u0451\u0442 \u0448\u0438\u0440\u043e\u043a\u0438\u0435 \u0432\u043e\u0437\u043c\u043e\u0436\u043d\u043e\u0441\u0442\u0438 \u0434\u043b\u044f \u0438\u0441\u043f\u043e\u043b\u044c\u0437\u043e\u0432\u0430\u043d\u0438 \u0440\u0430\u0437\u043b\u0438\u0447\u043d\u044b\u0445 \u043f\u0430\u0440\u0430\u0434\u0438\u0433\u043c \u0438 \u043f\u043e\u0434\u0445\u043e\u0434\u043e\u0432, \u0430 \u0442\u0430\u043a\u0436\u0435 \u043f\u043e\u0437\u0432\u043e\u043b\u044f\u0435\u0442 \u0448\u0438\u0440\u043e\u043a\u043e \u0438\u0441\u043f\u043e\u043b\u044c\u0437\u043e\u0432\u0430\u0442\u044c \u0438\u043d\u0442\u0440\u043e\u0441\u043f\u0435\u043a\u0446\u0438\u044e."
     ]
    },
    {
     "cell_type": "markdown",
     "metadata": {
      "slideshow": {
       "slide_type": "slide"
      }
     },
     "source": [
      "\u0415\u0441\u0442\u044c \u043f\u0435\u0440\u0435\u0433\u0440\u0443\u0437\u043a\u0430 \u043e\u043f\u0435\u0440\u0430\u0442\u043e\u0440\u043e\u0432 (\u0432 \u043a\u043b\u0430\u0441\u0441\u0435 \u043d\u0430\u0434\u043e \u0441\u0434\u0435\u043b\u0430\u0442\u044c \u043c\u0435\u0442\u043e\u0434\u044b \u0432\u0438\u0434\u0430 \\_\\_add\\_\\_).  "
     ]
    },
    {
     "cell_type": "markdown",
     "metadata": {
      "slideshow": {
       "slide_type": "slide"
      }
     },
     "source": [
      "Python \u043f\u043e\u0434\u0434\u0435\u0440\u0436\u0438\u0432\u0430\u0435\u0442 \u043c\u043d\u043e\u0436\u0435\u0441\u0442\u0432\u0435\u043d\u043d\u043e\u0435 \u043d\u0430\u0441\u043b\u0435\u0434\u043e\u0432\u0430\u043d\u0438\u0435 \u0438 \u043c\u0435\u0445\u0430\u043d\u0438\u0437\u043c \u043f\u0440\u0438\u043c\u0435\u0441\u0435\u0439 (mixin).  "
     ]
    },
    {
     "cell_type": "markdown",
     "metadata": {
      "slideshow": {
       "slide_type": "slide"
      }
     },
     "source": [
      "### \u041f\u043e\u043b\u0435\u0437\u043d\u044b\u0435 \u0432\u0441\u0442\u0440\u043e\u0435\u043d\u043d\u044b\u0435 \u0444\u0443\u043d\u043a\u0446\u0438\u0438 \u0438\u043d\u0442\u0440\u043e\u0441\u043f\u0435\u043a\u0446\u0438\u0438\n",
      "\n",
      "* help(obj) - \u043f\u043e\u043b\u0443\u0447\u0438\u0442\u044c \u0441\u043f\u0440\u0430\u0432\u043a\u0443 \u043f\u043e \u043b\u044e\u0431\u043e\u043c\u0443 \u043e\u0431\u044a\u0435\u043a\u0442\u0443.\n",
      "* dir(obj) - \u043f\u043e\u043b\u0443\u0447\u0438\u0442\u044c \u0441\u043f\u0438\u0441\u043e\u043a \u043f\u043e\u043b\u0435\u0439 \u043e\u0431\u044a\u0435\u043a\u0442\u0430.\n",
      "* type(obj) - \u0443\u0437\u043d\u0430\u0442\u044c \u0442\u0438\u043f \u043e\u0431\u044a\u0435\u043a\u0442\u0430.\n",
      "* str(obj) - \u043f\u0440\u0435\u043e\u0431\u0440\u0430\u0437\u043e\u0432\u0430\u0442\u044c \u043e\u0431\u044a\u0435\u043a\u0442 \u0432 \u0441\u0442\u0440\u043e\u043a\u0443."
     ]
    },
    {
     "cell_type": "markdown",
     "metadata": {
      "slideshow": {
       "slide_type": "slide"
      }
     },
     "source": [
      "## \u0411\u0430\u0437\u043e\u0432\u044b\u0435 \u0442\u0438\u043f\u044b\n",
      "\n",
      "### \u0426\u0435\u043b\u044b\u0435 \u0447\u0438\u0441\u043b\u0430\n",
      "* \u0426\u0435\u043b\u044b\u0435 \u0447\u0438\u0441\u043b\u0430 - \u043e\u0431\u044b\u0447\u043d\u044b\u0435 \u0437\u043d\u0430\u043a\u043e\u0432\u044b\u0435 \u0446\u0435\u043b\u044b\u0435 int() \u0438 \u0432\u0441\u0442\u0440\u043e\u0435\u043d\u043d\u0430 \u0434\u043b\u0438\u043d\u043d\u0430\u044f \u0430\u0440\u0438\u0444\u043c\u0435\u0442\u0438\u043a\u0430 long()\n",
      "* \u041f\u0440\u0438 \u043f\u0435\u0440\u0435\u043f\u043e\u043b\u043d\u0435\u043d\u0438\u0438 int \u0430\u0432\u0442\u043e\u043c\u0430\u0442\u0438\u0447\u0435\u0441\u043a\u0438 \u043f\u0440\u0435\u0432\u0440\u0430\u0449\u0430\u0435\u0442\u0441\u044f \u0432 long."
     ]
    },
    {
     "cell_type": "code",
     "collapsed": false,
     "input": [
      "# int\n",
      "print 42\n",
      "print int()\n",
      "print int(\"42\")\n",
      "print int(\"0x2A\", 16)\n",
      "print int(\"0b101010\", 2)\n",
      "print type(3 / 2), 3 / 2"
     ],
     "language": "python",
     "metadata": {
      "slideshow": {
       "slide_type": "slide"
      }
     },
     "outputs": [
      {
       "output_type": "stream",
       "stream": "stdout",
       "text": [
        "42\n",
        "0\n",
        "42\n",
        "42\n",
        "42\n",
        "<type 'int'> 1\n"
       ]
      }
     ],
     "prompt_number": 3
    },
    {
     "cell_type": "code",
     "collapsed": false,
     "input": [
      "# long\n",
      "print type(11)\n",
      "print type(long(11)), long(11)\n",
      "print type(19829237482379273847293478921374987234), 19829237482379273847293478921374987234\n",
      "print type(10 ** 100), 10 ** 100\n",
      "print type(2 ** 62), 2 ** 62\n",
      "print type(2 ** 62 + 2 ** 62), 2 ** 62 + 2 ** 62"
     ],
     "language": "python",
     "metadata": {},
     "outputs": [
      {
       "output_type": "stream",
       "stream": "stdout",
       "text": [
        "<type 'int'>\n",
        "<type 'long'> 11\n",
        "<type 'long'> 19829237482379273847293478921374987234\n",
        "<type 'long'> 10000000000000000000000000000000000000000000000000000000000000000000000000000000000000000000000000000\n",
        "<type 'int'> 4611686018427387904\n",
        "<type 'long'> 9223372036854775808\n"
       ]
      }
     ],
     "prompt_number": 4
    },
    {
     "cell_type": "markdown",
     "metadata": {},
     "source": [
      "### \u0414\u0435\u0439\u0441\u0442\u0432\u0438\u0442\u0435\u043b\u044c\u043d\u044b\u0435 \u0447\u0438\u0441\u043b\u0430\n",
      "* float() - \u0430\u043d\u0430\u043b\u043e\u0433 8-\u0431\u0430\u0439\u0442\u043d\u043e\u0433\u043e double \u0438\u0437 C\\C++."
     ]
    },
    {
     "cell_type": "code",
     "collapsed": false,
     "input": [
      "# float\n",
      "print .0\n",
      "print float()\n",
      "print 1e-10\n",
      "print 1 * 1.0\n",
      "print type(3.0 / 2), 3.0 / 2"
     ],
     "language": "python",
     "metadata": {},
     "outputs": [
      {
       "output_type": "stream",
       "stream": "stdout",
       "text": [
        "0.0\n",
        "0.0\n",
        "1e-10\n",
        "1.0\n",
        "<type 'float'> 1.5\n"
       ]
      }
     ],
     "prompt_number": 5
    },
    {
     "cell_type": "markdown",
     "metadata": {},
     "source": [
      "### \u041a\u043e\u043c\u043f\u043b\u0435\u043a\u0441\u043d\u044b\u0435 \u0447\u0438\u0441\u043b\u0430\n",
      "* complex()"
     ]
    },
    {
     "cell_type": "code",
     "collapsed": false,
     "input": [
      "# complex\n",
      "print complex()\n",
      "print type(1 + 0j), 1 + 0j\n",
      "print type(1 + 0j + 3), 1 + 0j + 3\n",
      "print (2 + 3j) * (4 + 1j)\n",
      "print (1 + 10j) * (1 - 10j)"
     ],
     "language": "python",
     "metadata": {},
     "outputs": [
      {
       "output_type": "stream",
       "stream": "stdout",
       "text": [
        "0j\n",
        "<type 'complex'> (1+0j)\n",
        "<type 'complex'> (4+0j)\n",
        "(5+14j)\n",
        "(101+0j)\n"
       ]
      }
     ],
     "prompt_number": 6
    },
    {
     "cell_type": "markdown",
     "metadata": {},
     "source": [
      "### \u041b\u043e\u0433\u0438\u0447\u0435\u0441\u043a\u0438\u0439 \u0442\u0438\u043f"
     ]
    },
    {
     "cell_type": "code",
     "collapsed": false,
     "input": [
      "# bool\n",
      "print bool()\n",
      "print type(True), True\n",
      "print type(False), False"
     ],
     "language": "python",
     "metadata": {},
     "outputs": [
      {
       "output_type": "stream",
       "stream": "stdout",
       "text": [
        "False\n",
        "<type 'bool'> True\n",
        "<type 'bool'> False\n"
       ]
      }
     ],
     "prompt_number": 7
    },
    {
     "cell_type": "markdown",
     "metadata": {},
     "source": [
      "### \u0422\u0438\u043f \u0434\u043b\u044f \u043f\u0443\u0441\u0442\u043e\u0442\u044b\n",
      "* None\n",
      "* \u0410\u043d\u0430\u043b\u043e\u0433 \u0442\u0438\u043f\u0430 null \u0438\u0437 \u0434\u0440\u0443\u0433\u0438\u0445 \u043e\u0431\u043b\u0430\u0441\u0442\u0435\u0439.\n",
      "* \u0421\u0440\u0430\u0432\u043d\u0438\u0432\u0430\u0442\u044c \u043d\u0430 \u0440\u0430\u0432\u0435\u043d\u0441\u0442\u0432\u043e None \u043d\u0430\u0434\u043e \u0441 \u043f\u043e\u043c\u043e\u0449\u044c\u044e \u043e\u043f\u0435\u0440\u0430\u0442\u043e\u0440\u0430 is.\n",
      "* \u0427\u0435\u0440\u0435\u0437 == \u0432\u043e\u0437\u043c\u043e\u0436\u043d\u043e, \u043d\u043e \u0441\u0447\u0438\u0442\u0430\u0435\u0442\u0441\u044f \u043f\u043b\u043e\u0445\u0438\u043c \u0441\u0442\u0438\u043b\u0435\u043c.\n",
      "* \u041f\u0440\u043e \u044d\u0442\u043e \u0435\u0441\u0442\u044c \u0432 https://www.python.org/dev/peps/pep-0008/ \u0432 \u0447\u0430\u0441\u0442\u0438 Programming Recommendations \u043f\u0440\u043e \u0441\u0440\u0430\u0432\u043d\u0435\u043d\u0438\u0435 \u0441\u0438\u043d\u0433\u043b\u0442\u043e\u043d\u043e\u0432."
     ]
    },
    {
     "cell_type": "code",
     "collapsed": false,
     "input": [
      "# None\n",
      "print type(None), None\n",
      "a = None\n",
      "print a is None # comparison of singletons"
     ],
     "language": "python",
     "metadata": {},
     "outputs": [
      {
       "output_type": "stream",
       "stream": "stdout",
       "text": [
        "<type 'NoneType'> None\n",
        "True\n"
       ]
      }
     ],
     "prompt_number": 8
    },
    {
     "cell_type": "markdown",
     "metadata": {
      "slideshow": {
       "slide_type": "slide"
      }
     },
     "source": [
      "## \u041a\u043e\u043b\u043b\u0435\u043a\u0446\u0438\u0438\n",
      "\n",
      "* \u041a\u043e\u043b\u043b\u0435\u043a\u0446\u0438\u044f - \u043e\u0431\u044a\u0435\u043a\u0442, \u043e\u0441\u043d\u043e\u0432\u043d\u044b\u043c \u043f\u0440\u0435\u0434\u043d\u0430\u0437\u043d\u0430\u0447\u0435\u043d\u0438\u0435\u043c \u043a\u043e\u0442\u043e\u0440\u043e\u0433\u043e \u044f\u0432\u043b\u044f\u0435\u0442\u0441\u044f \u0445\u0440\u0430\u043d\u0435\u043d\u0438\u0435 \u043e\u0431\u044a\u0435\u043a\u0442\u043e\u0432 \u0438 \u043f\u0440\u0435\u0434\u043e\u0441\u0442\u0430\u0432\u043b\u0435\u043d\u0438\u0435 \u043a \u043d\u0438\u043c \u0434\u043e\u0441\u0442\u0443\u043f\u0430.\n",
      "* \u041e\u0441\u043d\u043e\u0432\u043d\u044b\u0435 \u0432\u0438\u0434\u044b \u043a\u043e\u043b\u043b\u0435\u043a\u0446\u0438\u0439: *\u043f\u043e\u0441\u043b\u0435\u0434\u043e\u0432\u0430\u0442\u0435\u043b\u044c\u043d\u043e\u0441\u0442\u0438 (sequences)* \u0438 *\u043e\u0442\u043e\u0431\u0440\u0430\u0436\u0435\u043d\u0438\u044f (mappings)*."
     ]
    },
    {
     "cell_type": "markdown",
     "metadata": {
      "slideshow": {
       "slide_type": "slide"
      }
     },
     "source": [
      "### \u041f\u043e\u0441\u043b\u0435\u0434\u043e\u0432\u0430\u0442\u0435\u043b\u044c\u043d\u043e\u0441\u0442\u0438\n",
      "\n",
      "\u041f\u0440\u0438\u043c\u0435\u0440\u044b \u0432\u0441\u0442\u0440\u043e\u0435\u043d\u043d\u044b\u0445 \u0442\u0438\u043f\u043e\u0432:  \n",
      "\n",
      "* list()  \n",
      "* tuple()  \n",
      "* str()  \n",
      "* unicode()  "
     ]
    },
    {
     "cell_type": "markdown",
     "metadata": {
      "slideshow": {
       "slide_type": "slide"
      }
     },
     "source": [
      "\u0421\u0432\u043e\u0439\u0441\u0442\u0432\u0430:  \n",
      "\n",
      "* \u0418\u043c\u0435\u044e\u0442 \u043f\u043e\u0441\u043b\u0435\u0434\u043e\u0432\u0430\u0442\u0435\u043b\u044c\u043d\u0443\u044e \u0438\u043d\u0434\u0435\u043a\u0441\u0430\u0446\u0438\u044e \u0432 \u043f\u0440\u043e\u043c\u0435\u0436\u0443\u0442\u043a\u0435 [0, length - 1].  \n",
      "* \u041c\u043e\u0433\u0443\u0442 \u0441\u043e\u0434\u0435\u0440\u0436\u0430\u0442\u044c \u043e\u0434\u043d\u043e\u0432\u0440\u0435\u043c\u0435\u043d\u043d\u043e \u043e\u0431\u044a\u0435\u043a\u0442\u044b \u0440\u0430\u0437\u043b\u0438\u0447\u043d\u044b\u0445 \u0442\u0438\u043f\u043e\u0432.  \n",
      "* \u0421\u0442\u0440\u043e\u043a\u0438 - \u0438\u0441\u043a\u043b\u044e\u0447\u0435\u043d\u0438\u0435, \u0432 \u043d\u0438\u0445 \u0442\u043e\u043b\u044c\u043a\u043e \u0441\u0438\u043c\u0432\u043e\u043b\u044b (\u0441\u0442\u0440\u043e\u043a\u0438 \u0434\u043b\u0438\u043d\u044b 1).  \n",
      "* tuple() \u0438 str() \u043d\u0435\u0438\u0437\u043c\u0435\u043d\u044f\u0435\u043c\u044b\u0435 - immutable.  \n",
      "* \u041c\u043e\u0436\u043d\u043e \u0441\u043e\u0437\u0434\u0430\u0432\u0430\u0442\u044c \u043f\u043e\u043b\u044c\u0437\u043e\u0432\u0430\u0442\u0435\u043b\u044c\u0441\u043a\u0438\u0435 \u043a\u043e\u043b\u043b\u0435\u043a\u0446\u0438\u0438-\u043f\u043e\u0441\u043b\u0435\u0434\u043e\u0432\u0430\u0442\u0435\u043b\u044c\u043d\u043e\u0441\u0442\u0438.  \n",
      "* \u041c\u043d\u043e\u0433\u0438\u0435 \u043a\u043e\u043b\u043b\u0435\u043a\u0446\u0438\u0438 \u043f\u043e\u0434\u0434\u0435\u0440\u0436\u0438\u0432\u0430\u044e\u0442 \u0443\u043c\u043d\u043e\u0436\u0435\u043d\u0438\u0435 \u043d\u0430 \u0447\u0438\u0441\u043b\u043e. \n",
      "* \u0412\u0441\u0442\u0440\u043e\u0435\u043d\u043d\u0430\u044f \u0444\u0443\u043d\u043a\u0446\u0438\u044f zip(..) \u0434\u043b\u044f \u043e\u0431\u044a\u0435\u0434\u0438\u043d\u0435\u043d\u0438\u044f \u043f\u0435\u0440\u0435\u0447\u0438\u0441\u043b\u044f\u0435\u043c\u044b\u0445 \u043f\u043e\u0441\u043b\u0435\u0434\u043e\u0432\u0430\u0442\u0435\u043b\u044c\u043d\u043e\u0441\u0442\u0435\u0439."
     ]
    },
    {
     "cell_type": "markdown",
     "metadata": {
      "slideshow": {
       "slide_type": "slide"
      }
     },
     "source": [
      "\u0414\u0430\u043b\u0435\u0435 \u0440\u0430\u0441\u0441\u043c\u043e\u0442\u0440\u0438\u043c \u043f\u0440\u0438\u043c\u0435\u0440\u044b \u0438\u0441\u043f\u043e\u043b\u044c\u0437\u043e\u0432\u0430\u043d\u0438\u044f \u043f\u043e\u0441\u043b\u0435\u0434\u043e\u0432\u0430\u0442\u0435\u043b\u044c\u043d\u043e\u0441\u0442\u0435\u0439."
     ]
    },
    {
     "cell_type": "markdown",
     "metadata": {
      "slideshow": {
       "slide_type": "slide"
      }
     },
     "source": [
      "### \u0421\u043f\u0438\u0441\u043e\u043a (list) - \u0434\u0438\u043d\u0430\u043c\u0438\u0447\u0435\u0441\u043a\u0438\u0439 \u043c\u0430\u0441\u0441\u0438\u0432\n",
      "\n",
      "* \u041d\u0435 \u0441\u043c\u043e\u0442\u0440\u044f \u043d\u0430 \u043d\u0430\u0437\u0432\u0430\u043d\u0438\u0435, \u043f\u0440\u0435\u0434\u0441\u0442\u0430\u0432\u043b\u044f\u0435\u0442 \u0441\u043e\u0431\u043e\u0439 \u0438\u043c\u0435\u043d\u043d\u043e \u0434\u0438\u043d\u0430\u043c\u0438\u0447\u0435\u0441\u043a\u0438\u0439 \u043c\u0430\u0441\u0441\u0438\u0432.\n",
      "* \u041b\u0438\u0442\u0435\u0440\u0430\u043b \u0434\u043b\u044f \u0441\u043f\u0438\u0441\u043a\u0430 - [].\n",
      "* range() - \u0432\u0441\u0442\u0440\u043e\u0435\u043d\u043d\u0430\u044f \u0444\u0443\u043d\u043a\u0446\u0438\u044f, \u0441\u043e\u0437\u0434\u0430\u044e\u0449\u0430\u044f \u043c\u0430\u0441\u0441\u0438\u0432 \u043f\u043e\u0441\u043b\u0435\u0434\u043e\u0432\u0430\u0442\u0435\u043b\u044c\u043d\u044b\u0445 \u044d\u043b\u0435\u043c\u0435\u043d\u0442\u043e\u0432.\n",
      "* \u0418\u043d\u0434\u0435\u043a\u0441\u0430\u0446\u0438\u044f \u0447\u0435\u0440\u0435\u0437 [].\n",
      "* \u041c\u0435\u0445\u0430\u043d\u0438\u0437\u043c \u0441\u0440\u0435\u0437\u043e\u0432 [:] \u0438 [::]."
     ]
    },
    {
     "cell_type": "code",
     "collapsed": false,
     "input": [
      "# literal\n",
      "print []\n",
      "print [1]\n",
      "print [1, 2, 3, \"four\", [5, 6]]"
     ],
     "language": "python",
     "metadata": {
      "slideshow": {
       "slide_type": "slide"
      }
     },
     "outputs": [
      {
       "output_type": "stream",
       "stream": "stdout",
       "text": [
        "[]\n",
        "[1]\n",
        "[1, 2, 3, 'four', [5, 6]]\n"
       ]
      }
     ],
     "prompt_number": 9
    },
    {
     "cell_type": "code",
     "collapsed": false,
     "input": [
      "# range function\n",
      "print range(10)\n",
      "print range(5, 10)\n",
      "print range(1, 10, 2)\n",
      "print range(10, 1, -1)"
     ],
     "language": "python",
     "metadata": {},
     "outputs": [
      {
       "output_type": "stream",
       "stream": "stdout",
       "text": [
        "[0, 1, 2, 3, 4, 5, 6, 7, 8, 9]\n",
        "[5, 6, 7, 8, 9]\n",
        "[1, 3, 5, 7, 9]\n",
        "[10, 9, 8, 7, 6, 5, 4, 3, 2]\n"
       ]
      }
     ],
     "prompt_number": 10
    },
    {
     "cell_type": "code",
     "collapsed": false,
     "input": [
      "# length\n",
      "arr = range(10)\n",
      "print arr\n",
      "print len(arr)"
     ],
     "language": "python",
     "metadata": {},
     "outputs": [
      {
       "output_type": "stream",
       "stream": "stdout",
       "text": [
        "[0, 1, 2, 3, 4, 5, 6, 7, 8, 9]\n",
        "10\n"
       ]
      }
     ],
     "prompt_number": 11
    },
    {
     "cell_type": "code",
     "collapsed": false,
     "input": [
      "# indexing\n",
      "arr = range(10)\n",
      "print arr\n",
      "print arr[0]\n",
      "print arr[3]\n",
      "print arr[-1]\n",
      "print arr[-3]"
     ],
     "language": "python",
     "metadata": {},
     "outputs": [
      {
       "output_type": "stream",
       "stream": "stdout",
       "text": [
        "[0, 1, 2, 3, 4, 5, 6, 7, 8, 9]\n",
        "0\n",
        "3\n",
        "9\n",
        "7\n"
       ]
      }
     ],
     "prompt_number": 12
    },
    {
     "cell_type": "code",
     "collapsed": false,
     "input": [
      "# slicing part one\n",
      "arr = range(10)\n",
      "print arr\n",
      "print arr[:5]\n",
      "print arr[5:]\n",
      "print arr[5:8]"
     ],
     "language": "python",
     "metadata": {},
     "outputs": [
      {
       "output_type": "stream",
       "stream": "stdout",
       "text": [
        "[0, 1, 2, 3, 4, 5, 6, 7, 8, 9]\n",
        "[0, 1, 2, 3, 4]\n",
        "[5, 6, 7, 8, 9]\n",
        "[5, 6, 7]\n"
       ]
      }
     ],
     "prompt_number": 13
    },
    {
     "cell_type": "code",
     "collapsed": false,
     "input": [
      "# slicing part two\n",
      "arr = range(10)\n",
      "print arr\n",
      "arr[5:8] = [\"ha\", \"ha\", \"ha\"]\n",
      "print arr"
     ],
     "language": "python",
     "metadata": {},
     "outputs": [
      {
       "output_type": "stream",
       "stream": "stdout",
       "text": [
        "[0, 1, 2, 3, 4, 5, 6, 7, 8, 9]\n",
        "[0, 1, 2, 3, 4, 'ha', 'ha', 'ha', 8, 9]\n"
       ]
      }
     ],
     "prompt_number": 14
    },
    {
     "cell_type": "code",
     "collapsed": false,
     "input": [
      "# slicing part three\n",
      "arr = range(10)\n",
      "print arr\n",
      "print arr[3:9]\n",
      "print arr[3:9:2]\n",
      "print arr[::-1]\n",
      "arr[3:7] = arr[6:2:-1]\n",
      "print arr"
     ],
     "language": "python",
     "metadata": {},
     "outputs": [
      {
       "output_type": "stream",
       "stream": "stdout",
       "text": [
        "[0, 1, 2, 3, 4, 5, 6, 7, 8, 9]\n",
        "[3, 4, 5, 6, 7, 8]\n",
        "[3, 5, 7]\n",
        "[9, 8, 7, 6, 5, 4, 3, 2, 1, 0]\n",
        "[0, 1, 2, 6, 5, 4, 3, 7, 8, 9]\n"
       ]
      }
     ],
     "prompt_number": 15
    },
    {
     "cell_type": "code",
     "collapsed": false,
     "input": [
      "# iteration\n",
      "for elem in [1, 2, \"three\", []]:\n",
      "    print elem"
     ],
     "language": "python",
     "metadata": {},
     "outputs": [
      {
       "output_type": "stream",
       "stream": "stdout",
       "text": [
        "1\n",
        "2\n",
        "three\n",
        "[]\n"
       ]
      }
     ],
     "prompt_number": 16
    },
    {
     "cell_type": "code",
     "collapsed": false,
     "input": [
      "# search\n",
      "arr = range(10)\n",
      "print arr\n",
      "print 5 in arr\n",
      "print arr.index(5)\n",
      "print arr.count(5)"
     ],
     "language": "python",
     "metadata": {},
     "outputs": [
      {
       "output_type": "stream",
       "stream": "stdout",
       "text": [
        "[0, 1, 2, 3, 4, 5, 6, 7, 8, 9]\n",
        "True\n",
        "5\n",
        "1\n"
       ]
      }
     ],
     "prompt_number": 17
    },
    {
     "cell_type": "code",
     "collapsed": false,
     "input": [
      "# adding elements\n",
      "arr = range(10)\n",
      "print arr\n",
      "\n",
      "arr.append(\"ten\")\n",
      "print arr\n",
      "\n",
      "arr.extend([11, 12])\n",
      "print arr\n",
      "\n",
      "arr.insert(10, \"before ten\")\n",
      "print arr"
     ],
     "language": "python",
     "metadata": {},
     "outputs": [
      {
       "output_type": "stream",
       "stream": "stdout",
       "text": [
        "[0, 1, 2, 3, 4, 5, 6, 7, 8, 9]\n",
        "[0, 1, 2, 3, 4, 5, 6, 7, 8, 9, 'ten']\n",
        "[0, 1, 2, 3, 4, 5, 6, 7, 8, 9, 'ten', 11, 12]\n",
        "[0, 1, 2, 3, 4, 5, 6, 7, 8, 9, 'before ten', 'ten', 11, 12]\n"
       ]
      }
     ],
     "prompt_number": 18
    },
    {
     "cell_type": "code",
     "collapsed": false,
     "input": [
      "# removing\n",
      "arr = range(10)\n",
      "print arr\n",
      "\n",
      "print arr.pop()\n",
      "print arr\n",
      "\n",
      "print arr.remove(5)\n",
      "print arr\n",
      "\n",
      "del arr[0]\n",
      "print arr\n",
      "\n",
      "del arr[3:]\n",
      "print arr"
     ],
     "language": "python",
     "metadata": {},
     "outputs": [
      {
       "output_type": "stream",
       "stream": "stdout",
       "text": [
        "[0, 1, 2, 3, 4, 5, 6, 7, 8, 9]\n",
        "9\n",
        "[0, 1, 2, 3, 4, 5, 6, 7, 8]\n",
        "None\n",
        "[0, 1, 2, 3, 4, 6, 7, 8]\n",
        "[1, 2, 3, 4, 6, 7, 8]\n",
        "[1, 2, 3]\n"
       ]
      }
     ],
     "prompt_number": 19
    },
    {
     "cell_type": "code",
     "collapsed": false,
     "input": [
      "# reversing\n",
      "arr = range(10)\n",
      "print arr\n",
      "\n",
      "arr.reverse()\n",
      "print arr"
     ],
     "language": "python",
     "metadata": {},
     "outputs": [
      {
       "output_type": "stream",
       "stream": "stdout",
       "text": [
        "[0, 1, 2, 3, 4, 5, 6, 7, 8, 9]\n",
        "[9, 8, 7, 6, 5, 4, 3, 2, 1, 0]\n"
       ]
      }
     ],
     "prompt_number": 20
    },
    {
     "cell_type": "code",
     "collapsed": false,
     "input": [
      "# builtin reversed() generator\n",
      "for elem in reversed([\"a\", \"b\", \"c\"]):\n",
      "    print elem"
     ],
     "language": "python",
     "metadata": {},
     "outputs": [
      {
       "output_type": "stream",
       "stream": "stdout",
       "text": [
        "c\n",
        "b\n",
        "a\n"
       ]
      }
     ],
     "prompt_number": 21
    },
    {
     "cell_type": "code",
     "collapsed": false,
     "input": [
      "# sorting\n",
      "arr = [5, 7, 1, 10, -1]\n",
      "print arr\n",
      "arr.sort()\n",
      "print arr\n",
      "arr.sort(reverse=True)\n",
      "print arr"
     ],
     "language": "python",
     "metadata": {},
     "outputs": [
      {
       "output_type": "stream",
       "stream": "stdout",
       "text": [
        "[5, 7, 1, 10, -1]\n",
        "[-1, 1, 5, 7, 10]\n",
        "[10, 7, 5, 1, -1]\n"
       ]
      }
     ],
     "prompt_number": 22
    },
    {
     "cell_type": "code",
     "collapsed": false,
     "input": [
      "# more sorting\n",
      "arr = [\"abc\", \"defg\", \"h\", \"ij\"]\n",
      "print arr\n",
      "arr.sort(key=lambda elem: len(elem), reverse=True)\n",
      "print arr"
     ],
     "language": "python",
     "metadata": {},
     "outputs": [
      {
       "output_type": "stream",
       "stream": "stdout",
       "text": [
        "['abc', 'defg', 'h', 'ij']\n",
        "['defg', 'abc', 'ij', 'h']\n"
       ]
      }
     ],
     "prompt_number": 23
    },
    {
     "cell_type": "code",
     "collapsed": false,
     "input": [
      "# builtin sorted generator\n",
      "arr = [\"abc\", \"defg\", \"h\", \"ij\"]\n",
      "print arr\n",
      "\n",
      "for elem in sorted(arr, key=lambda elem: len(elem), reverse=True):\n",
      "    print elem"
     ],
     "language": "python",
     "metadata": {},
     "outputs": [
      {
       "output_type": "stream",
       "stream": "stdout",
       "text": [
        "['abc', 'defg', 'h', 'ij']\n",
        "defg\n",
        "abc\n",
        "ij\n",
        "h\n"
       ]
      }
     ],
     "prompt_number": 24
    },
    {
     "cell_type": "code",
     "collapsed": false,
     "input": [
      "# zip\n",
      "first_sequence = range(10, 100, 10)\n",
      "second_sequence = range(1, 10, 1)\n",
      "\n",
      "zip(first_sequence, second_sequence)"
     ],
     "language": "python",
     "metadata": {},
     "outputs": [
      {
       "metadata": {},
       "output_type": "pyout",
       "prompt_number": 25,
       "text": [
        "[(10, 1),\n",
        " (20, 2),\n",
        " (30, 3),\n",
        " (40, 4),\n",
        " (50, 5),\n",
        " (60, 6),\n",
        " (70, 7),\n",
        " (80, 8),\n",
        " (90, 9)]"
       ]
      }
     ],
     "prompt_number": 25
    },
    {
     "cell_type": "code",
     "collapsed": false,
     "input": [
      "# max, min\n",
      "print max(1, 2, 3)\n",
      "print max(range(10))\n",
      "print min(range(10))\n",
      "print max(range(5, 10), key=lambda val: 2 ** -val)"
     ],
     "language": "python",
     "metadata": {},
     "outputs": [
      {
       "output_type": "stream",
       "stream": "stdout",
       "text": [
        "3\n",
        "9\n",
        "0\n",
        "5\n"
       ]
      }
     ],
     "prompt_number": 26
    },
    {
     "cell_type": "code",
     "collapsed": false,
     "input": [
      "# sum\n",
      "print sum(range(10))\n",
      "print sum(range(10), -45)"
     ],
     "language": "python",
     "metadata": {},
     "outputs": [
      {
       "output_type": "stream",
       "stream": "stdout",
       "text": [
        "45\n",
        "0\n"
       ]
      }
     ],
     "prompt_number": 27
    },
    {
     "cell_type": "markdown",
     "metadata": {
      "slideshow": {
       "slide_type": "slide"
      }
     },
     "source": [
      "### \u041a\u043e\u0440\u0442\u0435\u0436 (tuple) - \u043d\u0435\u0438\u0437\u043c\u0435\u043d\u044f\u0435\u043c\u044b\u0439 \u043c\u0430\u0441\u0441\u0438\u0432\n",
      "\n",
      "* \u041a\u0430\u043a list(), \u0442\u043e\u043b\u044c\u043a\u043e \u043d\u0435\u043b\u044c\u0437\u044f \u0438\u0437\u043c\u0435\u043d\u044f\u0442\u044c.\n",
      "* \u0418\u0441\u043f\u043e\u043b\u044c\u0437\u0443\u0435\u0442\u0441\u044f \u0442\u0430\u043c, \u0433\u0434\u0435 \u043d\u0443\u0436\u043d\u043e \u0441\u0432\u043e\u0439\u0441\u0442\u0432\u043e \u043d\u0435\u0438\u0437\u043c\u0435\u043d\u044f\u0435\u043c\u043e\u0441\u0442\u0438.\n",
      "* \u0422\u0430\u043a\u0436\u0435 \u043c\u043e\u0436\u043d\u043e \u0438\u0441\u043f\u043e\u043b\u044c\u0437\u043e\u0432\u0430\u0442\u044c, \u0447\u0442\u043e\u0431\u044b \u044f\u0432\u043d\u043e \u0443\u043a\u0430\u0437\u044b\u0432\u0430\u0442\u044c \u043d\u0430 \u0442\u043e, \u0447\u0442\u043e \u043e\u043f\u0440\u0435\u0434\u0435\u043b\u0451\u043d\u043d\u044b\u0439 \u043d\u0430\u0431\u043e\u0440 \u0434\u0430\u043d\u043d\u044b\u0445 \u0437\u0430\u0434\u0443\u043c\u044b\u0432\u0430\u043b\u0441\u044f \u043d\u0435\u0438\u0437\u043c\u0435\u043d\u044f\u0435\u043c\u044b\u043c.\n",
      "* \u0421 \u043f\u043e\u043c\u043e\u0449\u044c\u044e \u044d\u0442\u043e\u0433\u043e \u0442\u0438\u043f\u0430 \u043d\u0435\u044f\u0432\u043d\u043e \u0432\u044b\u043f\u043e\u043b\u043d\u044f\u0435\u0442\u0441\u044f \u043e\u043f\u0435\u0440\u0430\u0446\u0438\u044f \u043f\u0430\u0440\u0430\u043b\u043b\u0435\u043b\u044c\u043d\u043e\u0433\u043e \u043f\u0440\u0438\u0441\u0432\u0430\u0438\u0432\u0430\u043d\u0438\u044f."
     ]
    },
    {
     "cell_type": "code",
     "collapsed": false,
     "input": [
      "print (1, 2)\n",
      "print tuple([1, 2, 3])\n",
      "a, b = 4, 5\n",
      "print a, b"
     ],
     "language": "python",
     "metadata": {
      "slideshow": {
       "slide_type": "slide"
      }
     },
     "outputs": [
      {
       "output_type": "stream",
       "stream": "stdout",
       "text": [
        "(1, 2)\n",
        "(1, 2, 3)\n",
        "4 5\n"
       ]
      }
     ],
     "prompt_number": 28
    },
    {
     "cell_type": "markdown",
     "metadata": {
      "slideshow": {
       "slide_type": "slide"
      }
     },
     "source": [
      "### \u0421\u0442\u0440\u043e\u043a\u0438\n",
      "\n",
      "* \u0414\u0432\u0430 \u0442\u0438\u043f\u0430: \u043e\u0434\u043d\u043e\u0431\u0430\u0439\u0442\u043e\u0432\u044b\u0435 str() \u0438 \u044e\u043d\u0438\u043a\u043e\u0434-\u0441\u0442\u0440\u043e\u043a\u0438 unicode() \n",
      "* \u0414\u0432\u0430 \u0432\u0430\u0440\u0438\u0430\u043d\u0442\u0430 \u043a\u0430\u0432\u044b\u0447\u0435\u043a: \"...\" \u0438\u043b\u0438 '...' - \u0440\u0430\u0437\u043d\u0438\u0446\u044b \u043d\u0435\u0442.\n",
      "* r\"...\" - raw string, \u0441\u0438\u043c\u0432\u043e\u043b '\\' \u043d\u0435 \u0438\u043d\u0442\u0435\u0440\u043f\u0440\u0435\u0442\u0438\u0440\u0443\u0435\u0442\u0441\u044f \u0432 \u0442\u0430\u043a\u0438\u0445 \u043b\u0438\u0442\u0435\u0440\u0430\u043b\u0430\u0445.\n",
      "* \u0412 Python \u0441\u0442\u0440\u043e\u043a\u0438 \u043d\u0435\u0438\u0437\u043c\u0435\u043d\u044f\u0435\u043c\u044b\u0435 (immutable) - \u043f\u0440\u0438 \u0438\u0437\u043c\u0435\u043d\u0435\u043d\u0438\u0438 \u0437\u043d\u0430\u0447\u0435\u043d\u0438\u044f (\u043d\u0430\u043f\u0440\u0438\u043c\u0435\u0440, \u043e\u0434\u043d\u043e\u0439 \u0431\u0443\u043a\u0432\u044b) \u0441\u043e\u0437\u0434\u0430\u0451\u0442\u0441\u044f \u043d\u043e\u0432\u044b\u0439 \u043e\u0431\u044a\u0435\u043a\u0442.  \n",
      "* \u041d\u0430\u0434\u043e \u0443\u0447\u0438\u0442\u044b\u0432\u0430\u0442\u044c \u043f\u0440\u0438 \u0431\u043e\u043b\u044c\u0448\u043e\u043c \u043a\u043e\u043b\u0438\u0447\u0435\u0441\u0442\u0432\u0435 \u0438\u0437\u043c\u0435\u043d\u044f\u044e\u0449\u0438\u0445 \u043e\u043f\u0435\u0440\u0430\u0446\u0438\u0439 \u043d\u0430\u0434 \u0441\u0442\u0440\u043e\u043a\u0430\u043c\u0438 \u0432 \u043f\u0440\u043e\u0433\u0440\u0430\u043c\u043c\u0430\u043c\u0438 \u0438 \u043e\u043f\u0442\u0438\u043c\u0438\u0437\u0438\u0440\u043e\u0432\u0430\u0442\u044c \u043f\u0440\u0438 \u043d\u0435\u043e\u0431\u0445\u043e\u0434\u0438\u043c\u043e\u0441\u0442\u0438.  \n",
      "* \u0414\u0432\u0430 \u0441\u043f\u043e\u0441\u043e\u0431\u043e\u0432\u0430 \u0444\u043e\u0440\u043c\u0430\u0442\u0438\u0440\u043e\u0432\u0430\u043d\u0438\u044f:  \n",
      "    + \u0441\u0442\u0430\u0440\u044b\u0439 \u0447\u0435\u0440\u0435\u0437 %  \n",
      "    + \u0441\u043e\u0432\u0440\u0435\u043c\u0435\u043d\u043d\u044b\u0439 \u0447\u0435\u0440\u0435\u0437 .format  "
     ]
    },
    {
     "cell_type": "code",
     "collapsed": false,
     "input": [
      "# string literals\n",
      "print type(\"abc\"), \"abc\"\n",
      "print type(u\"abc\"), u\"abc\"\n",
      "\n",
      "print \"Funny, isn't it?\"\n",
      "print 'Funny, isn\\'t it?'\n",
      "\n",
      "print 'Quote: \"Ahaha\"'"
     ],
     "language": "python",
     "metadata": {
      "slideshow": {
       "slide_type": "slide"
      }
     },
     "outputs": [
      {
       "output_type": "stream",
       "stream": "stdout",
       "text": [
        "<type 'str'> abc\n",
        "<type 'unicode'> abc\n",
        "Funny, isn't it?\n",
        "Funny, isn't it?\n",
        "Quote: \"Ahaha\"\n"
       ]
      }
     ],
     "prompt_number": 29
    },
    {
     "cell_type": "code",
     "collapsed": false,
     "input": [
      "# multiline literals\n",
      "print \"\"\"This is the multiline\n",
      "string literal\"\"\""
     ],
     "language": "python",
     "metadata": {},
     "outputs": [
      {
       "output_type": "stream",
       "stream": "stdout",
       "text": [
        "This is the multiline\n",
        "string literal\n"
       ]
      }
     ],
     "prompt_number": 30
    },
    {
     "cell_type": "code",
     "collapsed": false,
     "input": [
      "# raw strings\n",
      "print r\"\\test\"\n",
      "print \"\\test\""
     ],
     "language": "python",
     "metadata": {},
     "outputs": [
      {
       "output_type": "stream",
       "stream": "stdout",
       "text": [
        "\\test\n",
        "\test\n"
       ]
      }
     ],
     "prompt_number": 31
    },
    {
     "cell_type": "code",
     "collapsed": false,
     "input": [
      "# auto concat adjacent strings and multiple lines\n",
      "print \"first part\"\\\n",
      "      \" and second part\""
     ],
     "language": "python",
     "metadata": {},
     "outputs": [
      {
       "output_type": "stream",
       "stream": "stdout",
       "text": [
        "first part and second part\n"
       ]
      }
     ],
     "prompt_number": 32
    },
    {
     "cell_type": "code",
     "collapsed": false,
     "input": [
      "# split\n",
      "print \"abcd efg\".split(\" \")\n",
      "print \"abcd efg hij\".split(\" \", 1)\n",
      "print \"abcd efg hij\".rsplit(\" \", 1)"
     ],
     "language": "python",
     "metadata": {},
     "outputs": [
      {
       "output_type": "stream",
       "stream": "stdout",
       "text": [
        "['abcd', 'efg']\n",
        "['abcd', 'efg hij']\n",
        "['abcd efg', 'hij']\n"
       ]
      }
     ],
     "prompt_number": 33
    },
    {
     "cell_type": "code",
     "collapsed": false,
     "input": [
      "# join\n",
      "print \" ahaha \".join([\"Your\", \"words\", \"are\", \"funny\"])"
     ],
     "language": "python",
     "metadata": {},
     "outputs": [
      {
       "output_type": "stream",
       "stream": "stdout",
       "text": [
        "Your ahaha words ahaha are ahaha funny\n"
       ]
      }
     ],
     "prompt_number": 34
    },
    {
     "cell_type": "code",
     "collapsed": false,
     "input": [
      "# check parts of the string\n",
      "line = \"abacaba\"\n",
      "print line.startswith(\"aba\")\n",
      "print line.endswith(\"aba\")\n",
      "print line.replace(\"aca\", \"AHAHA\")\n",
      "print line.find(\"aca\")"
     ],
     "language": "python",
     "metadata": {},
     "outputs": [
      {
       "output_type": "stream",
       "stream": "stdout",
       "text": [
        "True\n",
        "True\n",
        "abAHAHAba\n",
        "2\n"
       ]
      }
     ],
     "prompt_number": 35
    },
    {
     "cell_type": "code",
     "collapsed": false,
     "input": [
      "# simple formatting examples\n",
      "print \"first argument is {}, second argument is {}\".format(1, 2)\n",
      "print \"first argument is {1}, second argument is {0}\".format(1, 2)\n",
      "# error -> print \"first argument is {1}, second argument is {}\".format(1, 2)\n",
      "print \"My name is {name}\".format(name=\"unknown\")\n",
      "\n",
      "key = \"counter\"\n",
      "value = \"1\"\n",
      "print \"{}={}\".format(key, value)"
     ],
     "language": "python",
     "metadata": {},
     "outputs": [
      {
       "output_type": "stream",
       "stream": "stdout",
       "text": [
        "first argument is 1, second argument is 2\n",
        "first argument is 2, second argument is 1\n",
        "My name is unknown\n",
        "counter=1\n"
       ]
      }
     ],
     "prompt_number": 36
    },
    {
     "cell_type": "markdown",
     "metadata": {
      "slideshow": {
       "slide_type": "slide"
      }
     },
     "source": [
      "#### \u041f\u0440\u0438\u043c\u0435\u0440 \u043f\u0440\u043e\u0441\u0442\u043e\u0433\u043e \u0432\u0432\u043e\u0434\u0430 \u0438 \u0432\u044b\u0432\u043e\u0434\u0430\n",
      "\n",
      "* \u0412\u0441\u0442\u0440\u043e\u0435\u043d\u043d\u0430\u044f \u0444\u0443\u043d\u043a\u0446\u0438\u044f raw_input() - \u0432\u0435\u0440\u043d\u0451\u0442 \u0441\u0442\u0440\u043e\u043a\u0443 (\u0434\u043e \\\\n) \u0438\u0437 \u0441\u0442\u0430\u043d\u0434\u0430\u0440\u0442\u043d\u043e\u0433\u043e \u0432\u0432\u043e\u0434\u0430.\n",
      "* \u0412\u0441\u0442\u0440\u043e\u0435\u043d\u043d\u044b\u0439 \u043e\u043f\u0435\u0440\u0430\u0442\u043e\u0440 print \u0438\u0441\u043f\u043e\u043b\u044c\u0437\u0443\u0435\u0442\u0441\u044f \u0434\u043b\u044f \u0432\u044b\u0432\u043e\u0434\u0430 \u0442\u0435\u043a\u0441\u0442\u0430 \u043d\u0430 \u0441\u0442\u0430\u043d\u0434\u0430\u0440\u0442\u043d\u044b\u0439 \u0432\u0432\u044b\u0432\u043e\u0434."
     ]
    },
    {
     "cell_type": "code",
     "collapsed": false,
     "input": [
      "# input\n",
      "line = raw_input()\n",
      "\n",
      "# ouptut\n",
      "print line"
     ],
     "language": "python",
     "metadata": {
      "slideshow": {
       "slide_type": "slide"
      }
     },
     "outputs": [
      {
       "name": "stdout",
       "output_type": "stream",
       "stream": "stdout",
       "text": [
        "Hello!\n"
       ]
      },
      {
       "output_type": "stream",
       "stream": "stdout",
       "text": [
        "Hello!\n"
       ]
      }
     ],
     "prompt_number": 37
    },
    {
     "cell_type": "markdown",
     "metadata": {
      "slideshow": {
       "slide_type": "slide"
      }
     },
     "source": [
      "### \u041e\u0442\u043e\u0431\u0440\u0430\u0436\u0435\u043d\u0438\u044f (mappings)\n",
      "\n",
      "* \u0421\u043b\u043e\u0432\u0430\u0440\u0438 \u043e\u0442\u043e\u0431\u0440\u0430\u0436\u0430\u044e\u0449\u0438\u0435 \u043c\u043d\u043e\u0436\u0435\u0441\u0442\u0432\u043e \u043d\u0435\u0438\u0437\u043c\u0435\u043d\u044f\u0435\u043c\u044b\u0445 \u043a\u043b\u044e\u0447\u0435\u0439 \u043d\u0430 \u0441\u043e\u043e\u0442\u0432\u0435\u0442\u0441\u0442\u0432\u0443\u044e\u0449\u0438\u0435 \u0437\u043d\u0430\u0447\u0435\u043d\u0438\u044f.\n",
      "* \u0412\u0441\u0442\u0440\u043e\u0435\u043d\u043d\u044b\u0439 \u0442\u0438\u043f: dict()"
     ]
    },
    {
     "cell_type": "markdown",
     "metadata": {
      "slideshow": {
       "slide_type": "slide"
      }
     },
     "source": [
      "\u0421\u0432\u043e\u0439\u0441\u0442\u0432\u0430:  \n",
      "\n",
      "* \u041a\u043b\u044e\u0447\u0438 \u0434\u043e\u043b\u0436\u043d\u044b \u0431\u044b\u0442\u044c \u043d\u0435\u0438\u0437\u043c\u0435\u043d\u044f\u0435\u043c\u044b\u0435 (\u0432\u043d\u0443\u0442\u0440\u0438 \u0438\u0441\u043f\u043e\u043b\u044c\u0437\u0443\u0435\u0442\u0441\u044f hash).  \n",
      "* \u041a\u043b\u044e\u0447\u0438 \u043c\u043e\u0433\u0443\u0442 \u0431\u044b\u0442\u044c \u0440\u0430\u0437\u043b\u0438\u0447\u043d\u044b\u0445 \u0442\u0438\u043f\u043e\u0432.  \n",
      "* \u0417\u043d\u0430\u0447\u0435\u043d\u0438\u044f \u043c\u043e\u0433\u0443\u0442 \u0431\u044b\u0442\u044c \u0440\u0430\u0437\u043b\u0438\u0447\u043d\u044b\u0445 \u0442\u0438\u043f\u043e\u0432.  \n",
      "* \u0428\u0438\u0440\u043e\u043a\u043e \u0438\u0441\u043f\u043e\u043b\u044c\u0437\u0443\u044e\u0442\u0441\u044f \u0432\u043d\u0443\u0442\u0440\u0438 \u044f\u0437\u044b\u043a\u0430: \u0438\u043c\u044f \u043f\u0435\u0440\u0435\u043c\u0435\u043d\u043d\u043e\u0439 \u0438 \u0435\u0451 \u0437\u043d\u0430\u0447\u0435\u043d\u0438\u0435, \u043f\u043e\u043b\u044f \u043e\u0431\u044a\u0435\u043a\u0442\u0430 \u0438 \u0438\u0445 \u0437\u043d\u0430\u0447\u0435\u043d\u0438\u044f.  "
     ]
    },
    {
     "cell_type": "code",
     "collapsed": false,
     "input": [
      "# dict literal\n",
      "counters = { \"a\": 1, \"b\": 2}\n",
      "print counters\n",
      "\n",
      "# dict()\n",
      "print {}\n",
      "print dict()\n",
      "\n",
      "# from pairs\n",
      "key_values = [(\"a\", 1), (\"b\", 2)]\n",
      "print dict(key_values)\n"
     ],
     "language": "python",
     "metadata": {
      "slideshow": {
       "slide_type": "slide"
      }
     },
     "outputs": [
      {
       "output_type": "stream",
       "stream": "stdout",
       "text": [
        "{'a': 1, 'b': 2}\n",
        "{}\n",
        "{}\n",
        "{'a': 1, 'b': 2}\n"
       ]
      }
     ],
     "prompt_number": 38
    },
    {
     "cell_type": "code",
     "collapsed": false,
     "input": [
      "# lookup element\n",
      "counters = {\"a\": 1, \"b\": 2}\n",
      "print counters[\"a\"]\n",
      "print \"a\" in counters\n",
      "print counters.get(\"a\", 0)"
     ],
     "language": "python",
     "metadata": {},
     "outputs": [
      {
       "output_type": "stream",
       "stream": "stdout",
       "text": [
        "1\n",
        "True\n",
        "1\n"
       ]
      }
     ],
     "prompt_number": 39
    },
    {
     "cell_type": "code",
     "collapsed": false,
     "input": [
      "# lookup error\n",
      "counters = {\"a\": 1, \"b\": 2}\n",
      "counters[\"c\"]"
     ],
     "language": "python",
     "metadata": {},
     "outputs": [
      {
       "ename": "KeyError",
       "evalue": "'c'",
       "output_type": "pyerr",
       "traceback": [
        "\u001b[0;31m---------------------------------------------------------------------------\u001b[0m\n\u001b[0;31mKeyError\u001b[0m                                  Traceback (most recent call last)",
        "\u001b[0;32m<ipython-input-40-bd0ea5dacece>\u001b[0m in \u001b[0;36m<module>\u001b[0;34m()\u001b[0m\n\u001b[1;32m      1\u001b[0m \u001b[0;31m# lookup error\u001b[0m\u001b[0;34m\u001b[0m\u001b[0;34m\u001b[0m\u001b[0m\n\u001b[1;32m      2\u001b[0m \u001b[0mcounters\u001b[0m \u001b[0;34m=\u001b[0m \u001b[0;34m{\u001b[0m\u001b[0;34m\"a\"\u001b[0m\u001b[0;34m:\u001b[0m \u001b[0;36m1\u001b[0m\u001b[0;34m,\u001b[0m \u001b[0;34m\"b\"\u001b[0m\u001b[0;34m:\u001b[0m \u001b[0;36m2\u001b[0m\u001b[0;34m}\u001b[0m\u001b[0;34m\u001b[0m\u001b[0m\n\u001b[0;32m----> 3\u001b[0;31m \u001b[0mcounters\u001b[0m\u001b[0;34m[\u001b[0m\u001b[0;34m\"c\"\u001b[0m\u001b[0;34m]\u001b[0m\u001b[0;34m\u001b[0m\u001b[0m\n\u001b[0m",
        "\u001b[0;31mKeyError\u001b[0m: 'c'"
       ]
      }
     ],
     "prompt_number": 40
    },
    {
     "cell_type": "code",
     "collapsed": false,
     "input": [
      "counters = {\"a\": 1, \"b\": 2}\n",
      "print counters.get(\"c\", None) is None"
     ],
     "language": "python",
     "metadata": {},
     "outputs": [
      {
       "output_type": "stream",
       "stream": "stdout",
       "text": [
        "True\n"
       ]
      }
     ],
     "prompt_number": 41
    },
    {
     "cell_type": "code",
     "collapsed": false,
     "input": [
      "# add element\n",
      "counters = {\"a\": 1, \"b\": 2}\n",
      "counters[\"c\"] = 3\n",
      "print counters"
     ],
     "language": "python",
     "metadata": {},
     "outputs": [
      {
       "output_type": "stream",
       "stream": "stdout",
       "text": [
        "{'a': 1, 'c': 3, 'b': 2}\n"
       ]
      }
     ],
     "prompt_number": 42
    },
    {
     "cell_type": "code",
     "collapsed": false,
     "input": [
      "# remove element\n",
      "counters = {\"a\": 1, \"b\": 2}\n",
      "print counters\n",
      "del counters[\"b\"]\n",
      "print counters\n",
      "print counters.pop(\"a\")\n",
      "print counters"
     ],
     "language": "python",
     "metadata": {},
     "outputs": [
      {
       "output_type": "stream",
       "stream": "stdout",
       "text": [
        "{'a': 1, 'b': 2}\n",
        "{'a': 1}\n",
        "1\n",
        "{}\n"
       ]
      }
     ],
     "prompt_number": 43
    },
    {
     "cell_type": "code",
     "collapsed": false,
     "input": [
      "counters = {\"a\": 1, \"b\": 2}\n",
      "\n",
      "for key in counters:\n",
      "    print key, counters[key]\n",
      "\n",
      "print counters.keys()\n",
      "print counters.values()\n",
      "print counters.items()\n",
      "\n",
      "for key in counters.iterkeys():\n",
      "    print key\n",
      "\n",
      "for value in counters.itervalues():\n",
      "    print value\n",
      "\n",
      "for key, value in counters.iteritems():\n",
      "    print key, value"
     ],
     "language": "python",
     "metadata": {},
     "outputs": [
      {
       "output_type": "stream",
       "stream": "stdout",
       "text": [
        "a 1\n",
        "b 2\n",
        "['a', 'b']\n",
        "[1, 2]\n",
        "[('a', 1), ('b', 2)]\n",
        "a\n",
        "b\n",
        "1\n",
        "2\n",
        "a 1\n",
        "b 2\n"
       ]
      }
     ],
     "prompt_number": 44
    },
    {
     "cell_type": "markdown",
     "metadata": {
      "slideshow": {
       "slide_type": "slide"
      }
     },
     "source": [
      "### \u0427\u0442\u043e \u0434\u0435\u043b\u0430\u0442\u044c \u0441\u0430\u043c\u043e\u0441\u0442\u043e\u044f\u0442\u0435\u043b\u044c\u043d\u043e \u0434\u0430\u043b\u044c\u0448\u0435\n",
      "* \u0418\u0437\u0443\u0447\u0430\u0435\u043c \u043b\u0435\u043a\u0446\u0438\u044e.\n",
      "* \u0427\u0438\u0442\u0430\u0435\u043c \u043a\u043d\u0438\u0433\u0438 \u0438 \u0441\u0442\u0430\u0442\u044c\u0438 (\u0441\u043c. \u043f\u0435\u0440\u0432\u0443\u044e \u043b\u0435\u043a\u0446\u0438\u044e).\n",
      "* \u042d\u043a\u0441\u043f\u0435\u0440\u0438\u043c\u0435\u043d\u0442\u0438\u0440\u0443\u0435\u043c \u0441 \u044d\u043b\u0435\u043c\u0435\u043d\u0442\u0430\u043c\u0438 \u044f\u0437\u044b\u043a\u0430.\n",
      "* \u0414\u0435\u043b\u0430\u0435\u043c \u043b\u0430\u0431\u043e\u0440\u0430\u0442\u043e\u0440\u043d\u044b\u0435.\n",
      "* \u041f\u0438\u0448\u0435\u043c \u0441\u0432\u043e\u0438 \u043f\u0440\u043e\u0438\u0437\u0432\u043e\u043b\u044c\u043d\u044b\u0435 \u043f\u0440\u043e\u0433\u0440\u0430\u043c\u043c\u044b \u0438 \u043f\u043e\u043b\u0443\u0447\u0430\u0435\u043c \u0443\u0434\u043e\u0432\u043e\u043b\u044c\u0441\u0442\u0432\u0438\u0435."
     ]
    }
   ],
   "metadata": {}
  }
 ]
}