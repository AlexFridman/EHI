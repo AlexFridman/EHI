{
 "cells": [
  {
   "cell_type": "markdown",
   "metadata": {},
   "source": [
    "# Лекция 8: метаклассы, тестирование"
   ]
  },
  {
   "cell_type": "markdown",
   "metadata": {},
   "source": [
    "## Метаклассы"
   ]
  },
  {
   "cell_type": "markdown",
   "metadata": {},
   "source": [
    "Metaclasses are deeper magic than 99% of users should\n",
    "never worry about. If you wonder whether you need them,\n",
    "you don’t (the people who actually need them know with\n",
    "certainty that they need them, and don’t need an explanation\n",
    "about why).\n",
    "\n",
    "by Tim Peters\n"
   ]
  },
  {
   "cell_type": "markdown",
   "metadata": {},
   "source": [
    "## Классы и классы классов"
   ]
  },
  {
   "cell_type": "markdown",
   "metadata": {},
   "source": [
    "Помним, что в Python всё является объектом:"
   ]
  },
  {
   "cell_type": "code",
   "execution_count": 1,
   "metadata": {
    "collapsed": false
   },
   "outputs": [
    {
     "name": "stdout",
     "output_type": "stream",
     "text": [
      "<type 'int'>\n"
     ]
    }
   ],
   "source": [
    "print type(1)"
   ]
  },
  {
   "cell_type": "code",
   "execution_count": 2,
   "metadata": {
    "collapsed": false,
    "scrolled": true
   },
   "outputs": [
    {
     "name": "stdout",
     "output_type": "stream",
     "text": [
      "specializing addition\n",
      "4\n"
     ]
    }
   ],
   "source": [
    "class MyInt(int):\n",
    "    def __add__(self, other):\n",
    "        print \"specializing addition\"\n",
    "        return super(MyInt, self).__add__(other)\n",
    "\n",
    "i = MyInt(2)\n",
    "print i + 2"
   ]
  },
  {
   "cell_type": "markdown",
   "metadata": {},
   "source": [
    "Классы также являются объектами."
   ]
  },
  {
   "cell_type": "code",
   "execution_count": 3,
   "metadata": {
    "collapsed": true
   },
   "outputs": [],
   "source": [
    "class Empty(object):\n",
    "    pass"
   ]
  },
  {
   "cell_type": "markdown",
   "metadata": {},
   "source": [
    "Воспользуемся встроенной функцией type() для определения типа объекта:"
   ]
  },
  {
   "cell_type": "code",
   "execution_count": 4,
   "metadata": {
    "collapsed": false
   },
   "outputs": [
    {
     "name": "stdout",
     "output_type": "stream",
     "text": [
      "<class '__main__.Empty'>\n"
     ]
    }
   ],
   "source": [
    "obj = Empty()\n",
    "print type(obj)"
   ]
  },
  {
   "cell_type": "markdown",
   "metadata": {},
   "source": [
    "Проверим тип класса:"
   ]
  },
  {
   "cell_type": "code",
   "execution_count": 5,
   "metadata": {
    "collapsed": false
   },
   "outputs": [
    {
     "data": {
      "text/plain": [
       "type"
      ]
     },
     "execution_count": 5,
     "metadata": {},
     "output_type": "execute_result"
    }
   ],
   "source": [
    "type(Empty)"
   ]
  },
  {
   "cell_type": "markdown",
   "metadata": {},
   "source": [
    "Oh, wait... What if?"
   ]
  },
  {
   "cell_type": "code",
   "execution_count": 6,
   "metadata": {
    "collapsed": false
   },
   "outputs": [
    {
     "name": "stdout",
     "output_type": "stream",
     "text": [
      "<type 'type'> <type 'type'> <type 'type'> <type 'type'>\n"
     ]
    }
   ],
   "source": [
    "print type(tuple), type(list), type(int), type(float)"
   ]
  },
  {
   "cell_type": "markdown",
   "metadata": {},
   "source": [
    "* Классы сами по себе являются объектами типа type.  \n",
    "* Это верно для всех new-style классов. "
   ]
  },
  {
   "cell_type": "markdown",
   "metadata": {},
   "source": [
    "Hmmm..."
   ]
  },
  {
   "cell_type": "code",
   "execution_count": 7,
   "metadata": {
    "collapsed": false
   },
   "outputs": [
    {
     "name": "stdout",
     "output_type": "stream",
     "text": [
      "<type 'type'>\n"
     ]
    }
   ],
   "source": [
    "print type(type)"
   ]
  },
  {
   "cell_type": "markdown",
   "metadata": {},
   "source": [
    "* type является предком себя - такую циклическую зависимость нельзя сделать в чистом Python, поэтом она реализуется  небольшим хаком в реализации Python.\n",
    "* type имеет несколько значений в Python:\n",
    "  * type() - как функция возвращая тип переданного ей объекта.\n",
    "  * type - как конструктор типов.\n",
    "  * type - как корневой тип для метаклассов, предок всех классов (подробности ниже)."
   ]
  },
  {
   "cell_type": "markdown",
   "metadata": {},
   "source": [
    "## Метапрограммирование"
   ]
  },
  {
   "cell_type": "markdown",
   "metadata": {},
   "source": [
    "* В общем случае, программы которые порождают другие программы или динамически модифицируются.\n",
    "* В частном случае, возможность динамического создания новых типов во время выполнения."
   ]
  },
  {
   "cell_type": "markdown",
   "metadata": {},
   "source": [
    "Мы можем написать функцию, динамически создающую объекты:"
   ]
  },
  {
   "cell_type": "code",
   "execution_count": 8,
   "metadata": {
    "collapsed": false
   },
   "outputs": [
    {
     "name": "stdout",
     "output_type": "stream",
     "text": [
      "100\n"
     ]
    }
   ],
   "source": [
    "def int_factory(s):\n",
    "    i = int(s)\n",
    "    return i\n",
    "\n",
    "i = int_factory('100')\n",
    "print i"
   ]
  },
  {
   "cell_type": "markdown",
   "metadata": {},
   "source": [
    "Это простейший пример функции-фабрики, которая принимает некоторые аргументы, конструирует нужный объект и возвращает его."
   ]
  },
  {
   "cell_type": "markdown",
   "metadata": {},
   "source": [
    "* Ничего не мешает нам создать функцию, которая будет создавать объект типа type (т.е. некоторый класс) и возвращать его в качестве результата\n",
    "* Такая функция называется метафункцией."
   ]
  },
  {
   "cell_type": "code",
   "execution_count": 9,
   "metadata": {
    "collapsed": false
   },
   "outputs": [
    {
     "name": "stdout",
     "output_type": "stream",
     "text": [
      "<class '__main__.Foo'>\n"
     ]
    }
   ],
   "source": [
    "def class_factory():\n",
    "    class Foo(object):\n",
    "        pass\n",
    "    return Foo\n",
    "\n",
    "F = class_factory()\n",
    "f = F()\n",
    "print type(f)"
   ]
  },
  {
   "cell_type": "markdown",
   "metadata": {},
   "source": [
    "* Получившаяся функция создаёт класс, однако выглядит несколько странно.  \n",
    "* Было бы отлично избежать явного написания кода и выполнять эти действия более динамически.\n",
    "* Это можно сделать создавая наш класс напрямую от класса type."
   ]
  },
  {
   "cell_type": "code",
   "execution_count": 10,
   "metadata": {
    "collapsed": false
   },
   "outputs": [
    {
     "name": "stdout",
     "output_type": "stream",
     "text": [
      "<class '__main__.Foo'>\n"
     ]
    }
   ],
   "source": [
    "def class_factory():\n",
    "    return type('Foo', (), {})\n",
    "\n",
    "F = class_factory()\n",
    "f = F()\n",
    "print(type(f))"
   ]
  },
  {
   "cell_type": "markdown",
   "metadata": {},
   "source": [
    "Вообще, запись вида:"
   ]
  },
  {
   "cell_type": "code",
   "execution_count": 11,
   "metadata": {
    "collapsed": true
   },
   "outputs": [],
   "source": [
    "class Empty(object):\n",
    "    pass"
   ]
  },
  {
   "cell_type": "markdown",
   "metadata": {},
   "source": [
    "Эквивалентна следующей конструкции:"
   ]
  },
  {
   "cell_type": "code",
   "execution_count": 12,
   "metadata": {
    "collapsed": true
   },
   "outputs": [],
   "source": [
    "Empty = type('Empty', (), {})"
   ]
  },
  {
   "cell_type": "markdown",
   "metadata": {},
   "source": [
    "### type - конструктор типов"
   ]
  },
  {
   "cell_type": "markdown",
   "metadata": {},
   "source": [
    "type(name, bases, dct)"
   ]
  },
  {
   "cell_type": "markdown",
   "metadata": {},
   "source": [
    "* name - имя для создаваемого класса.\n",
    "* bases - tuple задающий родительские классы для конструируемого класса.\n",
    "* dct - словарь аттрибутов и методов создаваемого класса."
   ]
  },
  {
   "cell_type": "markdown",
   "metadata": {},
   "source": [
    "Следующие примеры дадут идентичные результаты:"
   ]
  },
  {
   "cell_type": "code",
   "execution_count": 13,
   "metadata": {
    "collapsed": false
   },
   "outputs": [
    {
     "name": "stdout",
     "output_type": "stream",
     "text": [
      "4\n"
     ]
    }
   ],
   "source": [
    "class Foo(object):\n",
    "    i = 4\n",
    "\n",
    "class Bar(Foo):\n",
    "    def get_i(self):\n",
    "        return self.i\n",
    "    \n",
    "b = Bar()\n",
    "print b.get_i()"
   ]
  },
  {
   "cell_type": "code",
   "execution_count": 14,
   "metadata": {
    "collapsed": false
   },
   "outputs": [
    {
     "name": "stdout",
     "output_type": "stream",
     "text": [
      "4\n"
     ]
    }
   ],
   "source": [
    "Foo = type('Foo', (), dict(i=4))\n",
    "\n",
    "Bar = type('Bar', (Foo,), dict(get_i = lambda self: self.i))\n",
    "\n",
    "b = Bar()\n",
    "print b.get_i()"
   ]
  },
  {
   "cell_type": "markdown",
   "metadata": {},
   "source": [
    "### type как корневой тип для метаклассов"
   ]
  },
  {
   "cell_type": "markdown",
   "metadata": {},
   "source": [
    "Мы можем создать собственный метакласс отнаследовавшись от type, а затем использовать его вместо type при создании классов."
   ]
  },
  {
   "cell_type": "markdown",
   "metadata": {},
   "source": [
    "При создании нового класса с помощью ключевого слова class происходит следующее:  \n",
    "* Python выполняет тело внутри конструкции class как обычный блок кода.\n",
    "* Получившийся namespace (словарь) содержит в себе аттрибуты будущего класса.\n",
    "* Метакласс определяется путём поиска поля \\_\\_metaclass\\_\\_ в создаваемом классе, его предках (заданные метаклассы наследуются) или глобальной переменной \\_\\_metaclass\\_\\_.\n",
    "* Найденный метакласс вызывается, ему передаётся имя, список базовых классов и аттрибуты создаваемого класса."
   ]
  },
  {
   "cell_type": "markdown",
   "metadata": {},
   "source": [
    "### Пример метакласса - регистрируем подклассы"
   ]
  },
  {
   "cell_type": "markdown",
   "metadata": {},
   "source": [
    "Следующий метакласс просто добавляет словарь registry (реестр) и каждый раз при создании нового класса кладёт в registry имя этого класса."
   ]
  },
  {
   "cell_type": "code",
   "execution_count": 15,
   "metadata": {
    "collapsed": true
   },
   "outputs": [],
   "source": [
    "class DBInterfaceMeta(type):\n",
    "    # we use __init__ rather than __new__ here because we want\n",
    "    # to modify attributes of the class *after* they have been\n",
    "    # created\n",
    "    def __init__(cls, name, bases, dct):\n",
    "        if not hasattr(cls, 'registry'):\n",
    "            # this is the base class.  Create an empty registry\n",
    "            cls.registry = {}\n",
    "        else:\n",
    "            # this is a derived class.  Add cls to the registry\n",
    "            interface_id = name.lower()\n",
    "            cls.registry[interface_id] = cls\n",
    "            \n",
    "        super(DBInterfaceMeta, cls).__init__(name, bases, dct)"
   ]
  },
  {
   "cell_type": "markdown",
   "metadata": {},
   "source": [
    "Мы можем задать классу другой (вместо type) метакласс путём присваивания его специальному полю \\_\\_metaclass\\_\\_:"
   ]
  },
  {
   "cell_type": "code",
   "execution_count": 16,
   "metadata": {
    "collapsed": false
   },
   "outputs": [
    {
     "name": "stdout",
     "output_type": "stream",
     "text": [
      "{}\n"
     ]
    }
   ],
   "source": [
    "class DBInterface(object):\n",
    "    __metaclass__ = DBInterfaceMeta\n",
    "    \n",
    "print(DBInterface.registry)"
   ]
  },
  {
   "cell_type": "markdown",
   "metadata": {},
   "source": [
    "После добавления подклассов:"
   ]
  },
  {
   "cell_type": "code",
   "execution_count": 17,
   "metadata": {
    "collapsed": false
   },
   "outputs": [
    {
     "name": "stdout",
     "output_type": "stream",
     "text": [
      "{'firstinterface': <class '__main__.FirstInterface'>, 'secondinterface': <class '__main__.SecondInterface'>, 'secondinterfacemodified': <class '__main__.SecondInterfaceModified'>}\n"
     ]
    }
   ],
   "source": [
    "class FirstInterface(DBInterface):\n",
    "    pass\n",
    "\n",
    "class SecondInterface(DBInterface):\n",
    "    pass\n",
    "\n",
    "class SecondInterfaceModified(SecondInterface):\n",
    "    pass\n",
    "\n",
    "print(DBInterface.registry)"
   ]
  },
  {
   "cell_type": "markdown",
   "metadata": {},
   "source": [
    "### Составной пример метакласса"
   ]
  },
  {
   "cell_type": "markdown",
   "metadata": {},
   "source": [
    "В Python существует два метода, которые используются при создании объекта (в т.ч. классов и метаклассов):  \n",
    "* \\_\\_new\\_\\_ - конструктор, вызывается непосредственно для создания объекта, редко когда нужен (если нам надо иметь  контроль над созданием объекта).\n",
    "* \\_\\_init\\_\\_ - инициализатор, вызывается после создания объекта для его инициализации, в основном используется этот метод."
   ]
  },
  {
   "cell_type": "markdown",
   "metadata": {},
   "source": [
    "В случае с метаклассами редко, но может иметь смысл перегрузка функции \\_\\_call\\_\\_ в метаклассе (вызывается, когда идёт создание объекта с помощью имени класса MyClass())."
   ]
  },
  {
   "cell_type": "markdown",
   "metadata": {},
   "source": [
    "По сути, эти три функции позволяют влиять на разные этапы создания класса и его объектов."
   ]
  },
  {
   "cell_type": "code",
   "execution_count": 18,
   "metadata": {
    "collapsed": false
   },
   "outputs": [],
   "source": [
    "def make_hook(f):\n",
    "    \"\"\"Decorator to turn 'foo' method into '__foo__'\"\"\"\n",
    "    f.is_hook = 1\n",
    "    return f\n",
    "\n",
    "class MyType(type):\n",
    "    def __new__(cls, name, bases, attrs):\n",
    "\n",
    "        if name.startswith('None'):\n",
    "            return None\n",
    "\n",
    "        # Go over attributes and see if they should be renamed.\n",
    "        newattrs = {}\n",
    "        for attrname, attrvalue in attrs.iteritems():\n",
    "            if getattr(attrvalue, 'is_hook', 0):\n",
    "                newattrs['__%s__' % attrname] = attrvalue\n",
    "            else:\n",
    "                newattrs[attrname] = attrvalue\n",
    "\n",
    "        return super(MyType, cls).__new__(cls, name, bases, newattrs)\n",
    "\n",
    "    def __init__(self, name, bases, attrs):\n",
    "        super(MyType, self).__init__(name, bases, attrs)\n",
    "\n",
    "        print \"__init__ for {}\".format(self)\n",
    "\n",
    "    def __add__(self, other):\n",
    "        class AutoClass(self, other):\n",
    "            pass\n",
    "        return AutoClass\n",
    "        # Alternatively, to autogenerate the classname as well as the class:\n",
    "        # return type(self.__name__ + other.__name__, (self, other), {})\n",
    "\n",
    "    def say_hello(self):\n",
    "        print \"Hello, {}\".format(self)"
   ]
  },
  {
   "cell_type": "code",
   "execution_count": 19,
   "metadata": {
    "collapsed": false,
    "scrolled": true
   },
   "outputs": [
    {
     "name": "stdout",
     "output_type": "stream",
     "text": [
      "__init__ for <class '__main__.MyObject'>\n"
     ]
    }
   ],
   "source": [
    "class MyObject:\n",
    "    __metaclass__ = MyType"
   ]
  },
  {
   "cell_type": "code",
   "execution_count": 20,
   "metadata": {
    "collapsed": false
   },
   "outputs": [
    {
     "name": "stdout",
     "output_type": "stream",
     "text": [
      "<type 'NoneType'> None\n"
     ]
    }
   ],
   "source": [
    "class NoneSample(MyObject):\n",
    "    pass\n",
    "\n",
    "# Will print \"NoneType None\"\n",
    "print type(NoneSample), repr(NoneSample)"
   ]
  },
  {
   "cell_type": "code",
   "execution_count": 21,
   "metadata": {
    "collapsed": false
   },
   "outputs": [
    {
     "name": "stdout",
     "output_type": "stream",
     "text": [
      "__init__ for <class '__main__.Example'>\n",
      "Hello, <class '__main__.Example'>\n"
     ]
    }
   ],
   "source": [
    "class Example(MyObject):\n",
    "    def __init__(self, value):\n",
    "        self.value = value\n",
    "\n",
    "    @make_hook\n",
    "    def add(self, other):\n",
    "        return self.__class__(self.value + other.value)\n",
    "\n",
    "Example.say_hello()"
   ]
  },
  {
   "cell_type": "code",
   "execution_count": 22,
   "metadata": {
    "collapsed": false
   },
   "outputs": [
    {
     "name": "stdout",
     "output_type": "stream",
     "text": [
      "<__main__.Example object at 0x7fba581677d0>\n"
     ]
    }
   ],
   "source": [
    "inst = Example(10)\n",
    "\n",
    "print inst + inst"
   ]
  },
  {
   "cell_type": "code",
   "execution_count": 23,
   "metadata": {
    "collapsed": false
   },
   "outputs": [
    {
     "name": "stdout",
     "output_type": "stream",
     "text": [
      "__init__ for <class '__main__.Sibling'>\n",
      "__init__ for <class '__main__.AutoClass'>\n",
      "<class '__main__.AutoClass'>\n",
      "(<class '__main__.AutoClass'>, <class '__main__.Example'>, <class '__main__.Sibling'>, <class '__main__.MyObject'>, <type 'object'>)\n"
     ]
    }
   ],
   "source": [
    "class Sibling(MyObject):\n",
    "    pass\n",
    "\n",
    "ExampleSibling = Example + Sibling\n",
    "# ExampleSibling is now a subclass of both Example and Sibling (with no\n",
    "# content of its own) although it will believe it's called 'AutoClass'\n",
    "print ExampleSibling\n",
    "print ExampleSibling.__mro__"
   ]
  },
  {
   "cell_type": "markdown",
   "metadata": {},
   "source": [
    "### Дополнительное чтение про метаклассы"
   ]
  },
  {
   "cell_type": "markdown",
   "metadata": {},
   "source": [
    "* http://eli.thegreenplace.net/2011/08/14/python-metaclasses-by-example - местами более подробная версия этой лекции, с дополнительными примерами кода и применения в библиотеках.\n",
    "* http://blog.ionelmc.ro/2015/02/09/understanding-python-metaclasses/ - подробная статья, в деталях соединяющая (с картинками) материал этой и прошлой лекции.  "
   ]
  },
  {
   "cell_type": "markdown",
   "metadata": {},
   "source": [
    "## Тестирование и Python"
   ]
  },
  {
   "cell_type": "markdown",
   "metadata": {},
   "source": [
    "### Почему нужно писать тесты"
   ]
  },
  {
   "cell_type": "markdown",
   "metadata": {},
   "source": [
    "* Python - динамически типизированный язык программирования, нет привычной по другим языкам статической проверки типов.\n",
    "* Удобно авматоматизировать ручные проверки старых и новых функций и их взаимодействия.\n",
    "* При внесении изменений в код хотелось бы иметь простой способ быстро убедиться, что ничего не сломал.\n",
    "* При работе в команде это способ отслеживания состояния и работоспособности проекта.\n",
    "* Тесты - некоторого рода документация, описывающая как взаимодействовать с кодом."
   ]
  },
  {
   "cell_type": "markdown",
   "metadata": {},
   "source": [
    "### Юнит-тестирование"
   ]
  },
  {
   "cell_type": "markdown",
   "metadata": {},
   "source": [
    "* Существует ряд различных типов тестирования, которые применяются так или  иначе для проверки отдельных аспектов работы программы.\n",
    "* Нас интересует один из часто используемых - юнит-тестирование.\n",
    "* Юнит-тестирование (unit testing) предполагает написание тестов для небольших частей кода (функций или классов).\n",
    "* В таких тестах проверяется выполнение ожидаемых инвариантов работы с помощью различных вариантов функции assert.\n",
    "* Проверяем: что вернулось ожидаемое значение, что два значения равны, что было выброшено (или не выброшено) исключение,  что вызов завершился до истечения таймаута и т.п."
   ]
  },
  {
   "cell_type": "markdown",
   "metadata": {},
   "source": [
    "### Python unittest"
   ]
  },
  {
   "cell_type": "markdown",
   "metadata": {},
   "source": [
    "* В результате развития подходом и библиотек для языка Java в какой-то момент появилась успешная библиотека JUnit.\n",
    "* unittest - реализации идей этой библиотеки для языка Python."
   ]
  },
  {
   "cell_type": "markdown",
   "metadata": {},
   "source": [
    "Основные концепции выполнения тестов:"
   ]
  },
  {
   "cell_type": "markdown",
   "metadata": {},
   "source": [
    "* создание начальных условий для отдельного теста\n",
    "* задание завершающих действий для отдельного теста\n",
    "* объединение тестов в группы\n",
    "* автоматизированный запуск наборов тестов\n",
    "* независимое отображение результатов выполнения тестов"
   ]
  },
  {
   "cell_type": "markdown",
   "metadata": {},
   "source": [
    "Для реализации этих концепций используются понятия:"
   ]
  },
  {
   "cell_type": "markdown",
   "metadata": {},
   "source": [
    "* Отдельный тест (test case, класс TestCase) - описывает действия подготовки и завершения (setUp и tearDown), а также сам тест.\n",
    "* Набор тестов (test suite, TestSuite) - объединяет в себе несколько тестов.\n",
    "* Тестовые установки (test fixture, TestFixture) - представляют действия для подготовки и завершения одного или нескольких тестов (создание временных таблиц, директорий и т.п.)\n",
    "* Исполнитель тестов (test runner, TestRunner) - компонент, отвечающий за запуск тестов и отображения их результатов (текстовы, графический интерфейсы)."
   ]
  },
  {
   "cell_type": "markdown",
   "metadata": {},
   "source": [
    "Пример отдельного теста:"
   ]
  },
  {
   "cell_type": "code",
   "execution_count": 24,
   "metadata": {
    "collapsed": true
   },
   "outputs": [],
   "source": [
    "import unittest\n",
    "\n",
    "class TestStringMethods(unittest.TestCase):\n",
    "\n",
    "  def test_upper(self):\n",
    "      self.assertEqual('foo'.upper(), 'FOO')\n",
    "\n",
    "  def test_isupper(self):\n",
    "      self.assertTrue('FOO'.isupper())\n",
    "      self.assertFalse('Foo'.isupper())\n",
    "\n",
    "  def test_split(self):\n",
    "      s = 'hello world'\n",
    "      self.assertEqual(s.split(), ['hello', 'world'])\n",
    "      # check that s.split fails when the separator is not a string\n",
    "      with self.assertRaises(TypeError):\n",
    "          s.split(2)"
   ]
  },
  {
   "cell_type": "code",
   "execution_count": 25,
   "metadata": {
    "collapsed": false
   },
   "outputs": [
    {
     "name": "stderr",
     "output_type": "stream",
     "text": [
      "test_isupper (__main__.TestStringMethods) ... ok\n",
      "test_split (__main__.TestStringMethods) ... ok\n",
      "test_upper (__main__.TestStringMethods) ... ok\n",
      "\n",
      "----------------------------------------------------------------------\n",
      "Ran 3 tests in 0.004s\n",
      "\n",
      "OK\n"
     ]
    },
    {
     "data": {
      "text/plain": [
       "<unittest.runner.TextTestResult run=3 errors=0 failures=0>"
      ]
     },
     "execution_count": 25,
     "metadata": {},
     "output_type": "execute_result"
    }
   ],
   "source": [
    "suite = unittest.TestLoader().loadTestsFromTestCase(TestStringMethods)\n",
    "unittest.TextTestRunner(verbosity=2).run(suite)"
   ]
  },
  {
   "cell_type": "markdown",
   "metadata": {},
   "source": [
    "Предлагается самостоятельно почитать подробнее, изучить примеры и попробовать писать тесты:"
   ]
  },
  {
   "cell_type": "markdown",
   "metadata": {},
   "source": [
    "https://docs.python.org/2/library/unittest.html - официальная документация по библиотеке unittest"
   ]
  },
  {
   "cell_type": "markdown",
   "metadata": {},
   "source": [
    "### Библиотеки для юнит-тестов"
   ]
  },
  {
   "cell_type": "markdown",
   "metadata": {},
   "source": [
    "Существует также ряд других библиотек, которые могут быть интересны в будущем:"
   ]
  },
  {
   "cell_type": "markdown",
   "metadata": {},
   "source": [
    "* doctest - выполнение тестов особого вида, помещённых прямо в docstring.\n",
    "* py.test - альтернатива стандартному unittest, может подкупить простым интерфейсом.\n",
    "* nose - расширяет unittest упрощая тестирование (test discovery, показатель test coverage).\n",
    "* tox - автоматизация управления тестовым окружением, позволяет задавать матрицы параметров для тестов.\n",
    "* mock - библиотека для тестирования, позволяет просто создавать объекты-заглушки для тестирования и заменять части системы на время тестирования (см. mock тестирование)."
   ]
  },
  {
   "cell_type": "markdown",
   "metadata": {},
   "source": [
    "### Общие советы по написанию тестов"
   ]
  },
  {
   "cell_type": "markdown",
   "metadata": {},
   "source": [
    "* Обычно тесты кладут в папку tests в проекте.\n",
    "* Удобно использовать по одному файлу с тестами на каждый модуль.\n",
    "* Стараться избавляться от избыточной дупликации кода в отдельных тестах, если это можно сделать.\n",
    "* Отдельный тест должен проверять небольшую часть функциональности (если пройден, то она верна).\n",
    "* Каждый тест должен быть полностью независимым.\n",
    "* Тесты должны работать быстро, иначе будут проблемы с их частым и массовым запуском.\n",
    "* Удобно, когда на каждый коммит в репозиторий автоматически запускаются тесты.\n",
    "* Если есть долгие тесты, то можно их запускать по расписанию, а не при каждом коммите.\n",
    "* Полезно писать как можно подробные имена тестов."
   ]
  }
 ],
 "metadata": {
  "kernelspec": {
   "display_name": "Python 2",
   "language": "python",
   "name": "python2"
  },
  "language_info": {
   "codemirror_mode": {
    "name": "ipython",
    "version": 2
   },
   "file_extension": ".py",
   "mimetype": "text/x-python",
   "name": "python",
   "nbconvert_exporter": "python",
   "pygments_lexer": "ipython2",
   "version": "2.7.9"
  }
 },
 "nbformat": 4,
 "nbformat_minor": 0
}
