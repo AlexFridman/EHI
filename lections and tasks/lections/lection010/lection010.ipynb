{
 "cells": [
  {
   "cell_type": "markdown",
   "metadata": {},
   "source": [
    "# Лекция 10: введение в Django"
   ]
  },
  {
   "cell_type": "markdown",
   "metadata": {},
   "source": [
    "## Установка и создание заготовки проекта"
   ]
  },
  {
   "cell_type": "markdown",
   "metadata": {},
   "source": [
    "Сперва необходимо установить Django, в Ubuntu это можно сделать следующей командой в терминале:"
   ]
  },
  {
   "cell_type": "code",
   "execution_count": null,
   "metadata": {
    "collapsed": true
   },
   "outputs": [],
   "source": [
    "# sudo apt-get install python-django"
   ]
  },
  {
   "cell_type": "markdown",
   "metadata": {},
   "source": [
    "Более подробно про установку можно почитать: \n",
    "* https://docs.djangoproject.com/en/1.8/intro/install/ - на отдельной странице в официальной документации\n",
    "* http://djbook.ru/rel1.8/intro/install.html - в русском переводе этой страницы"
   ]
  },
  {
   "cell_type": "markdown",
   "metadata": {},
   "source": [
    "При условии успешно установленного Django создать заготовку для нового проекта  можно следующей консольной командой:"
   ]
  },
  {
   "cell_type": "code",
   "execution_count": null,
   "metadata": {
    "collapsed": true
   },
   "outputs": [],
   "source": [
    "# django-admin.py startproject projectname"
   ]
  },
  {
   "cell_type": "markdown",
   "metadata": {},
   "source": [
    "Результат этого будет выглядеть как-то так:"
   ]
  },
  {
   "cell_type": "code",
   "execution_count": null,
   "metadata": {
    "collapsed": true
   },
   "outputs": [],
   "source": [
    "# projectname  \n",
    "#      | manage.py  \n",
    "#      | projectname  \n",
    "#          | __init__.py  \n",
    "#          | settings.py  \n",
    "#          | urls.py  \n",
    "#          | wsgi.py  "
   ]
  },
  {
   "cell_type": "markdown",
   "metadata": {},
   "source": [
    "* projectname (внешний) - корневая директория проекта, её название не важно (можно переименовать)  \n",
    "* manage.py - вспомогательный скрипт, позволяющий  взаимодействовать с и управлять созданным проектом  \n",
    "* projectname (вложенный) - директория, которая является Python-пакетом вашего проекта (например, используется как корневая при импортах и т.п.)  \n",
    "* \\_\\_init\\_\\_.py - обычный пустой файл (служит для задания Python-пакета)  \n",
    "* settings.py - настройки проекта\n",
    "* wsgi.py - входная точка для веб-серверов поддерживающих wsgi для работы с проектом."
   ]
  },
  {
   "cell_type": "markdown",
   "metadata": {},
   "source": [
    "Код, в отличие некоторых от других языков (P?P), рекомендуется размещать вне корневой директории веб-сервера (/var/www) - это позволит избежать ряда уязвимостей "
   ]
  },
  {
   "cell_type": "markdown",
   "metadata": {},
   "source": [
    "## База данных"
   ]
  },
  {
   "cell_type": "markdown",
   "metadata": {},
   "source": [
    "* Перед использованием необходимо определить в настройках базу данных.\n",
    "* По-умолчанию выбрана SQLite (всё хранится в файле) и с ней проще всего начать работать, если нужно  быстро попробовать Django.\n",
    "* Для более менее серьёзных задач нужно выбирать более подходящую базу данных с нужными возможностями (рекомендуется попробовать PostgreSQL).\n",
    "* Лучше сразу выбрать ту базу, с которой будете дальше работать, т.к. переход с одной БД на другую может быть нетривиальным."
   ]
  },
  {
   "cell_type": "markdown",
   "metadata": {},
   "source": [
    "Подробности про настройку базы:\n",
    "* http://www.djangobook.com/en/2.0/chapter02.html#setting-up-a-database"
   ]
  },
  {
   "cell_type": "markdown",
   "metadata": {},
   "source": [
    "## Сервер"
   ]
  },
  {
   "cell_type": "markdown",
   "metadata": {},
   "source": [
    "* В общем случае ещё нужно проводить дополнительные настройки сервера и взаимодействия приложения с отдельным веб-сервером.\n",
    "* Для упрощения разработки в Django встроен простой веб-сервер.\n",
    "* Он предназначен *только* для разработки - как самостоятельный веб-сервер он сильно ограничен и использовать его для чего-то серьёзного строго не рекомендуется:\n",
    "  * мало возможностей\n",
    "  * не предназначен для нагрузки\n",
    "  * может быть более уязвимым с точки зрения безопасности"
   ]
  },
  {
   "cell_type": "markdown",
   "metadata": {},
   "source": [
    "Запустить встроенный сервер можно следующей командой:"
   ]
  },
  {
   "cell_type": "code",
   "execution_count": null,
   "metadata": {
    "collapsed": true
   },
   "outputs": [],
   "source": [
    "# python manage.py runserver 0.0.0.0:8000"
   ]
  },
  {
   "cell_type": "markdown",
   "metadata": {},
   "source": [
    "Здесь:"
   ]
  },
  {
   "cell_type": "markdown",
   "metadata": {},
   "source": [
    "* 0.0.0.0 - ip-адрес (должен быть на текущей машине) по которому будет доступен сервер.\n",
    "  * 127.0.0.1 - только локально\n",
    "  * 0.0.0.0 - все публичные ip-адреса текущего сервера\n",
    "  * xxx.xxx.xxx.xxx - какой-то определённый адрес\n",
    "* 8000 - номер порта по которому будет происходить соеднинение и работа с сервером."
   ]
  },
  {
   "cell_type": "markdown",
   "metadata": {},
   "source": [
    "У встроенного сервера есть удобное свойство: он автоматически перегружается, когда изменяются файлы проекта (правда, только существующие, при добавлении новых может быть нужен ручной перезапуск)."
   ]
  },
  {
   "cell_type": "markdown",
   "metadata": {},
   "source": [
    "Сильно более подробно про развертывание Django на боевом сервере можно почитать: \n",
    "* http://www.djangobook.com/en/2.0/chapter12.html"
   ]
  },
  {
   "cell_type": "markdown",
   "metadata": {},
   "source": [
    "## Проекты и приложения"
   ]
  },
  {
   "cell_type": "markdown",
   "metadata": {},
   "source": [
    "* Выше мы создали простейший пустой проект (project) - по сути, в нём пока есть только конфигурация.\n",
    "* Проект (в терминах Django) - совокупность конфигурации и множества приложений (app, application) составляющих отдельный веб-сайт.\n",
    "* Приложение - часть проекта предназначенная для выполнения определённой выделенной цели.\n",
    "* Проект состоит из приложений.\n",
    "* Приложение может быть в разных проектах (переиспользоваться)."
   ]
  },
  {
   "cell_type": "markdown",
   "metadata": {},
   "source": [
    "### Общая организация Django-приложения"
   ]
  },
  {
   "cell_type": "markdown",
   "metadata": {},
   "source": [
    "#### Файл с настройками"
   ]
  },
  {
   "cell_type": "markdown",
   "metadata": {},
   "source": [
    "Для начала рассмотрим и разберём содержимое файла с настройками."
   ]
  },
  {
   "cell_type": "code",
   "execution_count": null,
   "metadata": {
    "collapsed": true
   },
   "outputs": [],
   "source": [
    "# less settings.py"
   ]
  },
  {
   "cell_type": "markdown",
   "metadata": {},
   "source": [
    "#### Создание приложения"
   ]
  },
  {
   "cell_type": "markdown",
   "metadata": {},
   "source": [
    "* Далее мы будем рассматривать создание простого Django-приложения на примере приложения для голосования (стандартный пример из официальной документации).\n",
    "* Приложения могут размещаться в любом месте доступном через PYTHONPATH.\n",
    "  * Можно, например, размещать на одном уровне с manage.py (для доступа при импорте через имя приложения).\n",
    "  * Или внутри пакета проекта, чтобы всё имело общий корень."
   ]
  },
  {
   "cell_type": "markdown",
   "metadata": {},
   "source": [
    "Создадим новое приложение:"
   ]
  },
  {
   "cell_type": "code",
   "execution_count": null,
   "metadata": {
    "collapsed": true
   },
   "outputs": [],
   "source": [
    "# python manage.py startapp polls"
   ]
  },
  {
   "cell_type": "markdown",
   "metadata": {},
   "source": [
    "#### Структура приложения"
   ]
  },
  {
   "cell_type": "markdown",
   "metadata": {},
   "source": [
    "Попробуем рассмотреть код проекта примера и понять, что за что отвечает:\n",
    "* https://github.com/kirpit/django-sample-app"
   ]
  },
  {
   "cell_type": "markdown",
   "metadata": {},
   "source": [
    "Также может быть полезным попытаться запустить этот проект у себя самостоятельно."
   ]
  },
  {
   "cell_type": "markdown",
   "metadata": {},
   "source": [
    "  \n",
    "  \n",
    "  \n",
    "  \n",
    "  \n",
    "  \n",
    "  "
   ]
  },
  {
   "cell_type": "markdown",
   "metadata": {},
   "source": [
    " "
   ]
  },
  {
   "cell_type": "markdown",
   "metadata": {},
   "source": [
    " "
   ]
  },
  {
   "cell_type": "markdown",
   "metadata": {},
   "source": [
    " "
   ]
  },
  {
   "cell_type": "markdown",
   "metadata": {},
   "source": [
    " "
   ]
  },
  {
   "cell_type": "markdown",
   "metadata": {},
   "source": [
    " "
   ]
  },
  {
   "cell_type": "markdown",
   "metadata": {},
   "source": [
    "Основные файлы:\n",
    "* urls.py\n",
    "  * содержат routes (роуты)\n",
    "  * задают соответствие между урлами и обработчиками запросов (view)\n",
    "* views.py\n",
    "  * содержит view (вид, вьюха)\n",
    "  * на вход view получает объект представляющий собой запрос\n",
    "  * на выход отдают объект-ответ\n",
    "  * объект ответ часто включет в себя сгенерированный с помощью шаблонов (templates) html\n",
    "* шаблоны (templates)\n",
    "  * набор html-подобного текста с вкраплениями инструкций на языке Django-шаблонизатора\n",
    "  * позволяют леко генерировать html по данным\n",
    "* models.py\n",
    "  * содержит models (модели)\n",
    "  * специальные классы описывающие элементы хранимые в базе данных\n",
    "  * на основе их ORM генерирует методы работы с базой - через них можно искать, создавать, изменять, удалять объекты в базе\n",
    "* forms.py\n",
    "  * содержит forms (формы)\n",
    "  * по декларативному описанию умеют создавать html-формы, а также обрабатывать данные от них на стороне сервера."
   ]
  },
  {
   "cell_type": "markdown",
   "metadata": {},
   "source": [
    "Что почитать:"
   ]
  },
  {
   "cell_type": "markdown",
   "metadata": {},
   "source": [
    "* https://docs.djangoproject.com/en/1.8/ - официальная документация для версии 1.8\n",
    "* http://djbook.ru/rel1.8/ - сайт про Django на русском, есть частичный перевод официальной документации\n",
    "* http://www.djangobook.com/en/2.0/index.html - книга по Django, более подробно рассматривает темы\n",
    "* https://code.djangoproject.com/wiki/DjangoResources - ресурсы связанные с Django"
   ]
  }
 ],
 "metadata": {
  "kernelspec": {
   "display_name": "Python 2",
   "language": "python",
   "name": "python2"
  },
  "language_info": {
   "codemirror_mode": {
    "name": "ipython",
    "version": 2
   },
   "file_extension": ".py",
   "mimetype": "text/x-python",
   "name": "python",
   "nbconvert_exporter": "python",
   "pygments_lexer": "ipython2",
   "version": "2.7.9"
  }
 },
 "nbformat": 4,
 "nbformat_minor": 0
}
