{
 "cells": [
  {
   "cell_type": "markdown",
   "metadata": {},
   "source": [
    "# Лекция 12: диспетчеризация урлов и представления в Django"
   ]
  },
  {
   "cell_type": "markdown",
   "metadata": {},
   "source": [
    "## Немного принципов\n",
    "* KISS\n",
    "* DRY\n",
    "* NIH\n",
    "* YAGNI"
   ]
  },
  {
   "cell_type": "markdown",
   "metadata": {},
   "source": [
    "## Диспетчеризация урлов"
   ]
  },
  {
   "cell_type": "markdown",
   "metadata": {},
   "source": [
    "### ЧПУ"
   ]
  },
  {
   "cell_type": "markdown",
   "metadata": {},
   "source": [
    "ЧПУ - (человеко-понятные урлы) - идея формирования \"хороших\" урлов, которые были бы удобнее, в первую очередь, для человека, а не машины:  \n",
    "  * содержат читаемые слова и даты  \n",
    "  * латинский алфавит  \n",
    "  * показывают вложенность директорий сайта  \n",
    "  * отражают название сущности, на которую они ссылаются  \n",
    "  * избегаются технические части текста (расширения, спецсимволы)"
   ]
  },
  {
   "cell_type": "markdown",
   "metadata": {},
   "source": [
    "### URLconf"
   ]
  },
  {
   "cell_type": "markdown",
   "metadata": {},
   "source": [
    "* URL dispatcher - (диспетчеризация урлов, routes, роуты) - способ задания схемы отображения из урла запроса на обработчик запроса.\n",
    "* URLconf - неформальное название задаваемого разработчиком отображения с помощью встроенного в Django механизма.\n",
    "* Содержится в файлах urls.py.\n",
    "* Отображение задаётся с помощью кода на Python, которому указывается простое регулярное выражение (описание урла) и обрабатывающий объект-представление.\n",
    "* URLConf могут вкладываться один в другой - обычно в корневой URLConfg проекта включаются URLConf дочерних приложений."
   ]
  },
  {
   "cell_type": "markdown",
   "metadata": {},
   "source": [
    "Пример:"
   ]
  },
  {
   "cell_type": "code",
   "execution_count": null,
   "metadata": {
    "collapsed": true
   },
   "outputs": [],
   "source": [
    "from django.conf.urls import url\n",
    "\n",
    "from . import views\n",
    "\n",
    "urlpatterns = [\n",
    "    url(r'^articles/2003/$', views.special_case_2003),\n",
    "    url(r'^articles/([0-9]{4})/$', views.year_archive, name='news-year-archive'),\n",
    "    url(r'^articles/([0-9]{4})/([0-9]{2})/$', views.month_archive),\n",
    "    url(r'^articles/([0-9]{4})/([0-9]{2})/([0-9]+)/$', views.article_detail),\n",
    "]"
   ]
  },
  {
   "cell_type": "markdown",
   "metadata": {},
   "source": [
    "Иногда нужно искать url по шаблону (чтобы было проще вносить изменения и меньше повторяться)."
   ]
  },
  {
   "cell_type": "markdown",
   "metadata": {},
   "source": [
    "Для этого существуют механизмы как в Python коде:"
   ]
  },
  {
   "cell_type": "code",
   "execution_count": null,
   "metadata": {
    "collapsed": true
   },
   "outputs": [],
   "source": [
    "reverse('news-year-archive', args=(year,))"
   ]
  },
  {
   "cell_type": "markdown",
   "metadata": {},
   "source": [
    "Так и в шаблонах:"
   ]
  },
  {
   "cell_type": "markdown",
   "metadata": {},
   "source": [
    "<a href=\"{% url 'news-year-archive' 2012 %}\">2012 Archive</a>"
   ]
  },
  {
   "cell_type": "markdown",
   "metadata": {},
   "source": [
    "* Подробнее про возможности URLConf:\n",
    "  * https://docs.djangoproject.com/en/1.8/topics/http/urls/\n",
    "  * http://djbook.ru/rel1.8/topics/http/urls.html"
   ]
  },
  {
   "cell_type": "markdown",
   "metadata": {},
   "source": [
    "## Представления"
   ]
  },
  {
   "cell_type": "markdown",
   "metadata": {},
   "source": [
    "* Представление - (view, вид) - функция на языке Python, в Django с помощью их реализуются обработчики запросов.  \n",
    "* Принимает на вход объект-запрос (*django.http.HttpRequest*) и возвращает объект-ответ (*django.http.HttpResponse*).\n",
    "* Ответ должен задаваться во view, обычно он генерирует html."
   ]
  },
  {
   "cell_type": "markdown",
   "metadata": {},
   "source": [
    "Пример:"
   ]
  },
  {
   "cell_type": "code",
   "execution_count": null,
   "metadata": {
    "collapsed": true
   },
   "outputs": [],
   "source": [
    "from django.http import HttpResponse\n",
    "import datetime\n",
    "\n",
    "def current_datetime(request):\n",
    "    now = datetime.datetime.now()\n",
    "    html = \"<html><body>It is now %s.</body></html>\" % now\n",
    "    return HttpResponse(html)"
   ]
  },
  {
   "cell_type": "code",
   "execution_count": null,
   "metadata": {
    "collapsed": true
   },
   "outputs": [],
   "source": [
    "from django.http import HttpResponse, HttpResponseNotFound\n",
    "\n",
    "def my_view(request):\n",
    "    # ...\n",
    "    if foo:\n",
    "        return HttpResponseNotFound('<h1>Page not found</h1>')\n",
    "    else:\n",
    "        return HttpResponse('<h1>Page was found</h1>')"
   ]
  },
  {
   "cell_type": "code",
   "execution_count": null,
   "metadata": {
    "collapsed": true
   },
   "outputs": [],
   "source": [
    "# default will be used or specify your own 404.html template\n",
    "from django.http import Http404\n",
    "from django.shortcuts import render_to_response\n",
    "from polls.models import Poll\n",
    "\n",
    "def detail(request, poll_id):\n",
    "    try:\n",
    "        p = Poll.objects.get(pk=poll_id)\n",
    "    except Poll.DoesNotExist:\n",
    "        raise Http404(\"Poll does not exist\")\n",
    "    return render_to_response('polls/detail.html', {'poll': p})"
   ]
  },
  {
   "cell_type": "markdown",
   "metadata": {},
   "source": [
    "### Вспомогательные функции"
   ]
  },
  {
   "cell_type": "markdown",
   "metadata": {},
   "source": [
    "* Лежат в django.shortcuts.\n",
    "* Позволяют упростить ряд рутинных или часто нужных действий."
   ]
  },
  {
   "cell_type": "markdown",
   "metadata": {},
   "source": [
    "#### render \n",
    "Рендерит шаблон и создаёт сооветствующий HttpResponse."
   ]
  },
  {
   "cell_type": "code",
   "execution_count": null,
   "metadata": {
    "collapsed": true
   },
   "outputs": [],
   "source": [
    "from django.shortcuts import render\n",
    "\n",
    "def my_view(request):\n",
    "    # View code here...\n",
    "    return render(request, 'myapp/index.html', {\"foo\": \"bar\"},\n",
    "        content_type=\"application/xhtml+xml\")"
   ]
  },
  {
   "cell_type": "code",
   "execution_count": null,
   "metadata": {
    "collapsed": true
   },
   "outputs": [],
   "source": [
    "from django.http import HttpResponse\n",
    "from django.template import RequestContext, loader\n",
    "\n",
    "def my_view(request):\n",
    "    # View code here...\n",
    "    t = loader.get_template('myapp/index.html')\n",
    "    c = RequestContext(request, {'foo': 'bar'})\n",
    "    return HttpResponse(t.render(c),\n",
    "        content_type=\"application/xhtml+xml\")"
   ]
  },
  {
   "cell_type": "markdown",
   "metadata": {},
   "source": [
    "#### redirect"
   ]
  },
  {
   "cell_type": "markdown",
   "metadata": {},
   "source": [
    "Позволяет выполнить редирект путём возвращения специального ответа, создает HttpResponseRedirect на соответствующий url."
   ]
  },
  {
   "cell_type": "code",
   "execution_count": null,
   "metadata": {
    "collapsed": true
   },
   "outputs": [],
   "source": [
    "from django.shortcuts import redirect\n",
    "\n",
    "def my_view(request):\n",
    "    ...\n",
    "    object = MyModel.objects.get(...)\n",
    "    return redirect(object)"
   ]
  },
  {
   "cell_type": "code",
   "execution_count": null,
   "metadata": {
    "collapsed": true
   },
   "outputs": [],
   "source": [
    "def my_view(request):\n",
    "    ...\n",
    "    return redirect('some-view-name', foo='bar')"
   ]
  },
  {
   "cell_type": "code",
   "execution_count": null,
   "metadata": {
    "collapsed": true
   },
   "outputs": [],
   "source": [
    "def my_view(request):\n",
    "    ...\n",
    "    return redirect('/some/url/')"
   ]
  },
  {
   "cell_type": "code",
   "execution_count": null,
   "metadata": {
    "collapsed": true
   },
   "outputs": [],
   "source": [
    "def my_view(request):\n",
    "    ...\n",
    "    return redirect('http://example.com/')"
   ]
  },
  {
   "cell_type": "markdown",
   "metadata": {},
   "source": [
    "#### get_object_or_404"
   ]
  },
  {
   "cell_type": "markdown",
   "metadata": {},
   "source": [
    "Оборачивает получение объекта из базы (get): если не найдет, то вернёт ответ 404."
   ]
  },
  {
   "cell_type": "code",
   "execution_count": null,
   "metadata": {
    "collapsed": true
   },
   "outputs": [],
   "source": [
    "from django.shortcuts import get_object_or_404\n",
    "\n",
    "def my_view(request):\n",
    "    my_object = get_object_or_404(MyModel, pk=1)"
   ]
  },
  {
   "cell_type": "code",
   "execution_count": null,
   "metadata": {
    "collapsed": true
   },
   "outputs": [],
   "source": [
    "from django.http import Http404\n",
    "\n",
    "def my_view(request):\n",
    "    try:\n",
    "        my_object = MyModel.objects.get(pk=1)\n",
    "    except MyModel.DoesNotExist:\n",
    "        raise Http404(\"No MyModel matches the given query.\")"
   ]
  },
  {
   "cell_type": "code",
   "execution_count": null,
   "metadata": {
    "collapsed": true
   },
   "outputs": [],
   "source": [
    "queryset = Book.objects.filter(title__startswith='M')\n",
    "get_object_or_404(queryset, pk=1)"
   ]
  },
  {
   "cell_type": "markdown",
   "metadata": {},
   "source": [
    "#### get_list_or_404"
   ]
  },
  {
   "cell_type": "markdown",
   "metadata": {},
   "source": [
    "Как предыдущий, только для нескольких объектов (filter)."
   ]
  },
  {
   "cell_type": "code",
   "execution_count": null,
   "metadata": {
    "collapsed": true
   },
   "outputs": [],
   "source": [
    "from django.shortcuts import get_list_or_404\n",
    "\n",
    "def my_view(request):\n",
    "    my_objects = get_list_or_404(MyModel, published=True)"
   ]
  },
  {
   "cell_type": "code",
   "execution_count": null,
   "metadata": {
    "collapsed": true
   },
   "outputs": [],
   "source": [
    "from django.http import Http404\n",
    "\n",
    "def my_view(request):\n",
    "    my_objects = list(MyModel.objects.filter(published=True))\n",
    "    if not my_objects:\n",
    "        raise Http404(\"No MyModel matches the given query.\")"
   ]
  },
  {
   "cell_type": "markdown",
   "metadata": {},
   "source": [
    "Подробнее про представления:\n",
    "* https://docs.djangoproject.com/en/1.8/#the-view-layer\n",
    "* http://djbook.ru/rel1.8/#the-view-layer"
   ]
  },
  {
   "cell_type": "markdown",
   "metadata": {},
   "source": [
    "На оставшейся части лекции рассматриваем основные части архитектуры большого веб-приложения."
   ]
  }
 ],
 "metadata": {
  "kernelspec": {
   "display_name": "Python 2",
   "language": "python",
   "name": "python2"
  },
  "language_info": {
   "codemirror_mode": {
    "name": "ipython",
    "version": 2
   },
   "file_extension": ".py",
   "mimetype": "text/x-python",
   "name": "python",
   "nbconvert_exporter": "python",
   "pygments_lexer": "ipython2",
   "version": "2.7.9"
  }
 },
 "nbformat": 4,
 "nbformat_minor": 0
}
