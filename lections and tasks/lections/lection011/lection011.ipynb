{
 "cells": [
  {
   "cell_type": "markdown",
   "metadata": {},
   "source": [
    "# Лекция 11: модели в Django"
   ]
  },
  {
   "cell_type": "markdown",
   "metadata": {},
   "source": [
    "Для абстрагирования при работе с данными в Django используется понятие слоя моделей (model layer)."
   ]
  },
  {
   "cell_type": "markdown",
   "metadata": {},
   "source": [
    "## Django ORM"
   ]
  },
  {
   "cell_type": "markdown",
   "metadata": {},
   "source": [
    "* Для взаимодействия с базой в Django принято использовать встроенный ORM (Object-Relational Mapper, механизм объектно-ориентированного отображения).\n",
    "* Описание объектное представление данных задаётся с помощью моделей (models).\n",
    "* Модель отображается на отдельную таблицу в базе данных.\n",
    "* Фреймворк представляет автоматически генерируемое API для работы с данными и генерации операций при работе с базой.\n",
    "* Django ORM имеет встроенный механизм миграций.\n"
   ]
  },
  {
   "cell_type": "markdown",
   "metadata": {},
   "source": [
    "## Модели"
   ]
  },
  {
   "cell_type": "markdown",
   "metadata": {},
   "source": [
    "* Модель - класс наследник *django.db.models.Model*.\n",
    "* Атрибут модели - поле в базе данных.\n",
    "* По этим данным Django ORM автоматически генерирует API для работы с базой.\n",
    "* При работе с моделями нужно использовать миграции и не забывать их генерировать\\применять при изменении моделей."
   ]
  },
  {
   "cell_type": "markdown",
   "metadata": {},
   "source": [
    "## Атрибуты моделей"
   ]
  },
  {
   "cell_type": "markdown",
   "metadata": {},
   "source": [
    "* Поля класса описывающего модель.\n",
    "* Наследники django.db.models.Field.\n",
    "* С помощью их определяется:\n",
    "  * тип данных в базе\n",
    "  * HTML виджет, который будет использован при рендеринге формы\n",
    "  * базовые примитивные правила валидации\n",
    "* Есть много уже готовых классов (примеры):\n",
    "  * IntegerField\n",
    "  * BooleanField\n",
    "  * CharField\n",
    "  * DateField\n",
    "  * DurationField\n",
    "  * ImageField\n",
    "  * и т.д.\n",
    "* Специальный атрибут objects, создаётся для каждой модели автоматически и является интерфейсом через который происходит взаимодействие с базой."
   ]
  },
  {
   "cell_type": "markdown",
   "metadata": {},
   "source": [
    "## Параметры аттрибутов\n",
    "  * Есть как свои для отдельных типов полей, так и общие.\n",
    "  * Некоторые общие аргументы (опциональны):\n",
    "    * null - если True, то NULL для пустых значений в базе.\n",
    "    * blank - если True, то поле может быть пустым (с точки зрения валидации, а не данных в базе).\n",
    "    * choices - iterable и пар (значение\\_в\\_базе, человекочитаемый\\_текст).\n",
    "    * default - значение по-умолчанию для поля.\n",
    "    * help_text - текст, будет отображен в виджете формы (также удобно просто для документации).\n",
    "    * unique - значение должно быть уникальным (среди всех таких полей в таблице).\n",
    "    * primary_key - если True, то текущее поле станет primary ключом в таблице."
   ]
  },
  {
   "cell_type": "markdown",
   "metadata": {},
   "source": [
    "Если в таблице модели нет атрибутов с параметром primary_key, то отдельное поле будет создано автоматически."
   ]
  },
  {
   "cell_type": "code",
   "execution_count": null,
   "metadata": {
    "collapsed": true
   },
   "outputs": [],
   "source": [
    "id = models.AutoField(primary_key=True)"
   ]
  },
  {
   "cell_type": "markdown",
   "metadata": {},
   "source": [
    "## Примеры моделей"
   ]
  },
  {
   "cell_type": "code",
   "execution_count": null,
   "metadata": {
    "collapsed": true
   },
   "outputs": [],
   "source": [
    "from django.db import models\n",
    "\n",
    "class Musician(models.Model):\n",
    "    first_name = models.CharField(max_length=50)\n",
    "    last_name = models.CharField(max_length=50)\n",
    "    instrument = models.CharField(max_length=100)\n",
    "\n",
    "class Album(models.Model):\n",
    "    artist = models.ForeignKey(Musician)\n",
    "    name = models.CharField(max_length=100)\n",
    "    release_date = models.DateField()\n",
    "    num_stars = models.IntegerField()"
   ]
  },
  {
   "cell_type": "code",
   "execution_count": null,
   "metadata": {
    "collapsed": true
   },
   "outputs": [],
   "source": [
    "from django.db import models\n",
    "\n",
    "class Fruit(models.Model):\n",
    "    name = models.CharField(max_length=100, primary_key=True)"
   ]
  },
  {
   "cell_type": "code",
   "execution_count": null,
   "metadata": {
    "collapsed": true
   },
   "outputs": [],
   "source": [
    ">>> fruit = Fruit.objects.create(name='Apple')\n",
    ">>> fruit.name = 'Pear'\n",
    ">>> fruit.save()\n",
    ">>> Fruit.objects.values_list('name', flat=True)\n",
    "['Apple', 'Pear']"
   ]
  },
  {
   "cell_type": "code",
   "execution_count": null,
   "metadata": {
    "collapsed": true
   },
   "outputs": [],
   "source": [
    "from django.db import models\n",
    "\n",
    "class Person(models.Model):\n",
    "    name = models.CharField(max_length=128)\n",
    "\n",
    "    def __str__(self):              # __unicode__ on Python 2\n",
    "        return self.name\n",
    "\n",
    "class Group(models.Model):\n",
    "    name = models.CharField(max_length=128)\n",
    "    members = models.ManyToManyField(Person, through='Membership')\n",
    "\n",
    "    def __str__(self):              # __unicode__ on Python 2\n",
    "        return self.name\n",
    "\n",
    "class Membership(models.Model):\n",
    "    person = models.ForeignKey(Person)\n",
    "    group = models.ForeignKey(Group)\n",
    "    date_joined = models.DateField()\n",
    "    invite_reason = models.CharField(max_length=64)"
   ]
  },
  {
   "cell_type": "code",
   "execution_count": null,
   "metadata": {
    "collapsed": true
   },
   "outputs": [],
   "source": [
    ">>> ringo = Person.objects.create(name=\"Ringo Starr\")\n",
    ">>> paul = Person.objects.create(name=\"Paul McCartney\")\n",
    ">>> beatles = Group.objects.create(name=\"The Beatles\")\n",
    ">>> m1 = Membership(person=ringo, group=beatles,\n",
    "...     date_joined=date(1962, 8, 16),\n",
    "...     invite_reason=\"Needed a new drummer.\")\n",
    ">>> m1.save()\n",
    ">>> beatles.members.all()\n",
    "[<Person: Ringo Starr>]\n",
    ">>> ringo.group_set.all()\n",
    "[<Group: The Beatles>]\n",
    ">>> m2 = Membership.objects.create(person=paul, group=beatles,\n",
    "...     date_joined=date(1960, 8, 1),\n",
    "...     invite_reason=\"Wanted to form a band.\")\n",
    ">>> beatles.members.all()\n",
    "[<Person: Ringo Starr>, <Person: Paul McCartney>]"
   ]
  },
  {
   "cell_type": "markdown",
   "metadata": {},
   "source": [
    "Подробнее про модели:  \n",
    "* https://docs.djangoproject.com/en/1.8/#the-model-layer"
   ]
  },
  {
   "cell_type": "markdown",
   "metadata": {},
   "source": [
    "## Практика"
   ]
  },
  {
   "cell_type": "markdown",
   "metadata": {},
   "source": [
    "Рассмотрим первую главу туториала (+вопросы):\n",
    "  * https://docs.djangoproject.com/en/1.8/intro/tutorial01/\n",
    "  * http://djbook.ru/rel1.8/intro/tutorial01.html"
   ]
  }
 ],
 "metadata": {
  "kernelspec": {
   "display_name": "Python 2",
   "language": "python",
   "name": "python2"
  },
  "language_info": {
   "codemirror_mode": {
    "name": "ipython",
    "version": 2
   },
   "file_extension": ".py",
   "mimetype": "text/x-python",
   "name": "python",
   "nbconvert_exporter": "python",
   "pygments_lexer": "ipython2",
   "version": "2.7.9"
  }
 },
 "nbformat": 4,
 "nbformat_minor": 0
}
